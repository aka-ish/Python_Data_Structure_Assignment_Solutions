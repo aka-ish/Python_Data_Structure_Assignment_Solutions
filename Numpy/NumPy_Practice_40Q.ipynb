{
  "cells": [
    {
      "cell_type": "markdown",
      "id": "e0c490a6",
      "metadata": {
        "id": "e0c490a6"
      },
      "source": [
        "# NumPy Practice Questions\n",
        "\n",
        "**Instructions:** Dear Students Each question is self‑explanatory. Read the markdown prompt and write the code in the cell below it where marked `# answer here`. Keep solutions simple and focused on the asked concept.\n",
        "\n",
        "- Q1–Q30: Single-topic questions in sequence (basics → indexing → operations → aggregations → reshaping/broadcasting → utilities).\n",
        "\n",
        "- Q31–Q35: Multi‑concept (combine 2–3 ideas you practiced).\n",
        "\n",
        "- Q36–Q40: Use a single dataset loaded via **pandas** and perform **NumPy** operations on it. The file `students_scores.csv` is already available in the same folder as this notebook.\n"
      ]
    },
    {
      "cell_type": "markdown",
      "id": "c491a91a",
      "metadata": {
        "id": "c491a91a"
      },
      "source": [
        "### Q1. Create a 1D NumPy array from the Python list `[1, 2, 3, 4, 5]` and print its type and contents."
      ]
    },
    {
      "cell_type": "code",
      "execution_count": 2,
      "id": "11798359",
      "metadata": {
        "id": "11798359"
      },
      "outputs": [],
      "source": [
        "# answer here\n",
        "import numpy as np\n",
        "import pandas as pd\n"
      ]
    },
    {
      "cell_type": "code",
      "source": [
        "arr = np.array([1,2,3,4,5])\n",
        "print(arr)\n",
        "print(arr.dtype)"
      ],
      "metadata": {
        "id": "CRfE65DIBA9Z",
        "outputId": "f30c3152-883a-4f43-d750-33ff1c47b360",
        "colab": {
          "base_uri": "https://localhost:8080/"
        }
      },
      "id": "CRfE65DIBA9Z",
      "execution_count": 3,
      "outputs": [
        {
          "output_type": "stream",
          "name": "stdout",
          "text": [
            "[1 2 3 4 5]\n",
            "int64\n"
          ]
        }
      ]
    },
    {
      "cell_type": "markdown",
      "id": "c14573d0",
      "metadata": {
        "id": "c14573d0"
      },
      "source": [
        "### Q2. Create a 2D NumPy array from `[[1, 2, 3], [4, 5, 6]]` and print its `shape` and `ndim`."
      ]
    },
    {
      "cell_type": "code",
      "execution_count": 4,
      "id": "d8632ac0",
      "metadata": {
        "id": "d8632ac0",
        "outputId": "4b4d02b9-f776-4677-9b29-9eac512230a2",
        "colab": {
          "base_uri": "https://localhost:8080/"
        }
      },
      "outputs": [
        {
          "output_type": "stream",
          "name": "stdout",
          "text": [
            "[[1 2 3]\n",
            " [4 5 6]]\n",
            "(2, 3)\n"
          ]
        }
      ],
      "source": [
        "# answer here\n",
        "Arr = np.array([[1,2,3],\n",
        "              [4,5,6]])\n",
        "print(Arr)\n",
        "print(Arr.shape)"
      ]
    },
    {
      "cell_type": "markdown",
      "id": "41a541aa",
      "metadata": {
        "id": "41a541aa"
      },
      "source": [
        "### Q3. Create an array of 6 zeros and print it."
      ]
    },
    {
      "cell_type": "code",
      "execution_count": 5,
      "id": "d9ed7f27",
      "metadata": {
        "id": "d9ed7f27",
        "outputId": "db5950ba-8c4f-4e1b-d28f-640291f3a704",
        "colab": {
          "base_uri": "https://localhost:8080/"
        }
      },
      "outputs": [
        {
          "output_type": "stream",
          "name": "stdout",
          "text": [
            "[0. 0. 0. 0. 0. 0.]\n"
          ]
        }
      ],
      "source": [
        "# answer here\n",
        "zeros_arr = np.zeros(6)\n",
        "print(zeros_arr)"
      ]
    },
    {
      "cell_type": "markdown",
      "id": "320659f5",
      "metadata": {
        "id": "320659f5"
      },
      "source": [
        "### Q4. Create an array of 5 ones (float) and print it."
      ]
    },
    {
      "cell_type": "code",
      "execution_count": 6,
      "id": "06f42856",
      "metadata": {
        "id": "06f42856",
        "outputId": "43d060d6-dd5a-4352-ae9a-6232016f273a",
        "colab": {
          "base_uri": "https://localhost:8080/"
        }
      },
      "outputs": [
        {
          "output_type": "stream",
          "name": "stdout",
          "text": [
            "[1. 1. 1. 1. 1.]\n"
          ]
        }
      ],
      "source": [
        "# answer here\n",
        "ones_arr = np.ones(5)\n",
        "print(ones_arr)"
      ]
    },
    {
      "cell_type": "markdown",
      "id": "f94a555e",
      "metadata": {
        "id": "f94a555e"
      },
      "source": [
        "### Q5. Use `np.arange` to create an array from 2 to 14 (inclusive of 2, exclusive of 14) with a step of 2 and print it."
      ]
    },
    {
      "cell_type": "code",
      "execution_count": 7,
      "id": "a593196e",
      "metadata": {
        "id": "a593196e",
        "outputId": "ef337551-2a38-49e9-af25-346f1441ece5",
        "colab": {
          "base_uri": "https://localhost:8080/"
        }
      },
      "outputs": [
        {
          "output_type": "execute_result",
          "data": {
            "text/plain": [
              "array([ 2,  4,  6,  8, 10, 12])"
            ]
          },
          "metadata": {},
          "execution_count": 7
        }
      ],
      "source": [
        "# answer here\n",
        "np.arange(2,14,2)"
      ]
    },
    {
      "cell_type": "markdown",
      "id": "0f258cce",
      "metadata": {
        "id": "0f258cce"
      },
      "source": [
        "### Q6. Use `np.linspace` to create 5 evenly spaced values from 0 to 1 and print them."
      ]
    },
    {
      "cell_type": "code",
      "execution_count": 8,
      "id": "2f2a4b42",
      "metadata": {
        "id": "2f2a4b42",
        "outputId": "aa61e600-abda-4fb3-b78f-e607e0699530",
        "colab": {
          "base_uri": "https://localhost:8080/"
        }
      },
      "outputs": [
        {
          "output_type": "execute_result",
          "data": {
            "text/plain": [
              "array([0.  , 0.25, 0.5 , 0.75, 1.  ])"
            ]
          },
          "metadata": {},
          "execution_count": 8
        }
      ],
      "source": [
        "# answer here\n",
        "np.linspace(0,1,5)"
      ]
    },
    {
      "cell_type": "markdown",
      "id": "e7e03828",
      "metadata": {
        "id": "e7e03828"
      },
      "source": [
        "### Q7. Create an integer array `[10, 20, 30]` then convert it to `float` dtype and print both arrays."
      ]
    },
    {
      "cell_type": "code",
      "execution_count": 9,
      "id": "8c01f250",
      "metadata": {
        "id": "8c01f250",
        "outputId": "57681104-028e-4e5e-cd6b-20feb69fd86e",
        "colab": {
          "base_uri": "https://localhost:8080/"
        }
      },
      "outputs": [
        {
          "output_type": "stream",
          "name": "stdout",
          "text": [
            "[10 20 30]\n",
            "[10. 20. 30.]\n"
          ]
        }
      ],
      "source": [
        "# answer here\n",
        "int_arr = np.array([10,20,30])\n",
        "float_arr = int_arr.astype('float')\n",
        "print(int_arr)\n",
        "print(float_arr)"
      ]
    },
    {
      "cell_type": "markdown",
      "id": "fae8af1e",
      "metadata": {
        "id": "fae8af1e"
      },
      "source": [
        "### Q8. Create an array of 12 numbers from 0 to 11 and reshape it to `3x4`; print the reshaped array."
      ]
    },
    {
      "cell_type": "code",
      "execution_count": 10,
      "id": "376b9fe9",
      "metadata": {
        "id": "376b9fe9",
        "outputId": "be47bb8f-7bb0-4176-a948-9b0ae1fa1324",
        "colab": {
          "base_uri": "https://localhost:8080/"
        }
      },
      "outputs": [
        {
          "output_type": "execute_result",
          "data": {
            "text/plain": [
              "array([[ 0,  1,  2,  3],\n",
              "       [ 4,  5,  6,  7],\n",
              "       [ 8,  9, 10, 11]])"
            ]
          },
          "metadata": {},
          "execution_count": 10
        }
      ],
      "source": [
        "# answer here\n",
        "np.arange(12).reshape(3,4)"
      ]
    },
    {
      "cell_type": "markdown",
      "id": "f244c522",
      "metadata": {
        "id": "f244c522"
      },
      "source": [
        "### Q9. For the array `a = np.array([[1,2,3],[4,5,6]])`, print `a.shape`, `a.ndim`, and `a.size`."
      ]
    },
    {
      "cell_type": "code",
      "execution_count": 11,
      "id": "d7ce800a",
      "metadata": {
        "id": "d7ce800a",
        "outputId": "21b4945c-0c45-4e7e-ac7c-0e3f90c6f891",
        "colab": {
          "base_uri": "https://localhost:8080/"
        }
      },
      "outputs": [
        {
          "output_type": "stream",
          "name": "stdout",
          "text": [
            "(2, 3)\n",
            "2\n",
            "6\n"
          ]
        }
      ],
      "source": [
        "# answer here\n",
        "a = np.array([[1,2,3],[4,5,6]])\n",
        "print(a.shape)\n",
        "print(a.ndim)\n",
        "print(a.size)"
      ]
    },
    {
      "cell_type": "markdown",
      "id": "83ba66c2",
      "metadata": {
        "id": "83ba66c2"
      },
      "source": [
        "### Q10. For the array `a = np.array([1,2,3], dtype=np.int32)`, print `a.dtype` and `a.itemsize`."
      ]
    },
    {
      "cell_type": "code",
      "execution_count": 12,
      "id": "c85a1d4c",
      "metadata": {
        "id": "c85a1d4c",
        "outputId": "f9b9b441-7330-4ae8-a209-0e55c7cd805b",
        "colab": {
          "base_uri": "https://localhost:8080/"
        }
      },
      "outputs": [
        {
          "output_type": "stream",
          "name": "stdout",
          "text": [
            "int64\n",
            "8\n"
          ]
        }
      ],
      "source": [
        "# answer here\n",
        "a = np.array([[1,2,3],[4,5,6]])\n",
        "\n",
        "print(a.dtype)\n",
        "print(a.itemsize)\n"
      ]
    },
    {
      "cell_type": "markdown",
      "id": "01aa0bea",
      "metadata": {
        "id": "01aa0bea"
      },
      "source": [
        "### Q11. Given `arr = np.array([10, 20, 30, 40, 50])`, print the first element, last element, and the element at index 2."
      ]
    },
    {
      "cell_type": "code",
      "execution_count": 13,
      "id": "1d0d13f5",
      "metadata": {
        "id": "1d0d13f5",
        "outputId": "37836d58-1f42-413f-cd21-1c58ad7b51b8",
        "colab": {
          "base_uri": "https://localhost:8080/"
        }
      },
      "outputs": [
        {
          "output_type": "stream",
          "name": "stdout",
          "text": [
            "10\n",
            "50\n",
            "30\n"
          ]
        }
      ],
      "source": [
        "# answer here\n",
        "A = np.array([10,20,30,40,50])\n",
        "print(A[0])\n",
        "print(A[-1])\n",
        "print(A[2])"
      ]
    },
    {
      "cell_type": "markdown",
      "id": "d6fc26ea",
      "metadata": {
        "id": "d6fc26ea"
      },
      "source": [
        "### Q12. Given `arr = np.array([5, 10, 15, 20, 25])`, use negative indexing to print the last two elements."
      ]
    },
    {
      "cell_type": "code",
      "execution_count": 14,
      "id": "8f719239",
      "metadata": {
        "id": "8f719239",
        "outputId": "e566b9d1-d0aa-427f-fee0-392a36025224",
        "colab": {
          "base_uri": "https://localhost:8080/"
        }
      },
      "outputs": [
        {
          "output_type": "execute_result",
          "data": {
            "text/plain": [
              "array([20, 25])"
            ]
          },
          "metadata": {},
          "execution_count": 14
        }
      ],
      "source": [
        "# answer here\n",
        "B = np.array([5,10,15,20,25])\n",
        "B[-2:]"
      ]
    },
    {
      "cell_type": "markdown",
      "id": "7f6e0d20",
      "metadata": {
        "id": "7f6e0d20"
      },
      "source": [
        "### Q13. Given `arr = np.array([0,1,2,3,4,5,6,7,8,9])`, print the slice from index 2 to 7 (exclusive)."
      ]
    },
    {
      "cell_type": "code",
      "execution_count": 15,
      "id": "1f7780b7",
      "metadata": {
        "id": "1f7780b7",
        "outputId": "35bf8983-6025-47d5-8a30-f86501063dc8",
        "colab": {
          "base_uri": "https://localhost:8080/"
        }
      },
      "outputs": [
        {
          "output_type": "execute_result",
          "data": {
            "text/plain": [
              "array([2, 3, 4, 5, 6])"
            ]
          },
          "metadata": {},
          "execution_count": 15
        }
      ],
      "source": [
        "# answer here\n",
        "C = np.arange(10)\n",
        "C[2:7]"
      ]
    },
    {
      "cell_type": "markdown",
      "id": "842faad2",
      "metadata": {
        "id": "842faad2"
      },
      "source": [
        "### Q14. Given `m = np.arange(1,13).reshape(3,4)`, print the second row and the third column (as 1D slices)."
      ]
    },
    {
      "cell_type": "code",
      "execution_count": 16,
      "id": "f00c9967",
      "metadata": {
        "id": "f00c9967",
        "outputId": "2a0fd112-4317-4159-c879-b65a1e1496aa",
        "colab": {
          "base_uri": "https://localhost:8080/"
        }
      },
      "outputs": [
        {
          "output_type": "stream",
          "name": "stdout",
          "text": [
            "[[ 1  2  3  4]\n",
            " [ 5  6  7  8]\n",
            " [ 9 10 11 12]]\n",
            "Second row [5 6 7 8]\n",
            "Third Columns [ 3  7 11]\n"
          ]
        }
      ],
      "source": [
        "# answer here\n",
        "m = np.arange(1,13).reshape(3,4)\n",
        "print(m)\n",
        "print(\"Second row\", m[1,:])\n",
        "print(\"Third Columns\",m[:,2])"
      ]
    },
    {
      "cell_type": "markdown",
      "id": "8178992e",
      "metadata": {
        "id": "8178992e"
      },
      "source": [
        "### Q15. Given `m = np.arange(1,13).reshape(3,4)`, print the submatrix containing rows 0 to 1 and columns 1 to 3."
      ]
    },
    {
      "cell_type": "code",
      "execution_count": 17,
      "id": "2153637b",
      "metadata": {
        "id": "2153637b",
        "outputId": "633441a9-e9de-40d6-d450-e3acc8770702",
        "colab": {
          "base_uri": "https://localhost:8080/"
        }
      },
      "outputs": [
        {
          "output_type": "stream",
          "name": "stdout",
          "text": [
            "[[ 1  2  3  4]\n",
            " [ 5  6  7  8]\n",
            " [ 9 10 11 12]]\n",
            "**************************************************\n"
          ]
        },
        {
          "output_type": "execute_result",
          "data": {
            "text/plain": [
              "array([[2, 3, 4],\n",
              "       [6, 7, 8]])"
            ]
          },
          "metadata": {},
          "execution_count": 17
        }
      ],
      "source": [
        "# answer here\n",
        "M = np.arange(1,13).reshape(3,4)\n",
        "print(M)\n",
        "print(\"*\"*50)\n",
        "M[0:2,1:4]"
      ]
    },
    {
      "cell_type": "markdown",
      "id": "4e9c429c",
      "metadata": {
        "id": "4e9c429c"
      },
      "source": [
        "### Q16. Given `arr = np.arange(1,11)`, create a boolean mask for even numbers and print the even elements."
      ]
    },
    {
      "cell_type": "code",
      "execution_count": 18,
      "id": "2231b742",
      "metadata": {
        "id": "2231b742",
        "outputId": "5817a90b-dcaa-4b27-a74d-c85be5a0be6c",
        "colab": {
          "base_uri": "https://localhost:8080/"
        }
      },
      "outputs": [
        {
          "output_type": "stream",
          "name": "stdout",
          "text": [
            "[ 1  2  3  4  5  6  7  8  9 10]\n",
            "[False  True False  True False  True False  True False  True]\n",
            "[ 2  4  6  8 10]\n"
          ]
        }
      ],
      "source": [
        "# answer here\n",
        "arr = np.arange(1,11)\n",
        "mask = arr%2 == 0\n",
        "print(arr)\n",
        "print(mask)\n",
        "print(arr[mask])"
      ]
    },
    {
      "cell_type": "markdown",
      "id": "3002e5e5",
      "metadata": {
        "id": "3002e5e5"
      },
      "source": [
        "### Q17. Given `arr = np.arange(1,11)`, set all odd elements to `-1` (modify in place) and print the result."
      ]
    },
    {
      "cell_type": "code",
      "execution_count": 19,
      "id": "721b3e57",
      "metadata": {
        "id": "721b3e57",
        "outputId": "35a9325a-0b11-4103-9341-39ddf100a744",
        "colab": {
          "base_uri": "https://localhost:8080/"
        }
      },
      "outputs": [
        {
          "output_type": "stream",
          "name": "stdout",
          "text": [
            "[-1  2 -1  4 -1  6 -1  8 -1 10]\n"
          ]
        }
      ],
      "source": [
        "# answer here\n",
        "arr = np.arange(1,11)\n",
        "arr[arr%2 != 0] = -1\n",
        "print(arr)"
      ]
    },
    {
      "cell_type": "markdown",
      "id": "716f20ec",
      "metadata": {
        "id": "716f20ec"
      },
      "source": [
        "### Q18. Given `arr = np.array([1,2,3])`, add `5` to every element and print the result (element‑wise)."
      ]
    },
    {
      "cell_type": "code",
      "execution_count": 20,
      "id": "aa334afb",
      "metadata": {
        "id": "aa334afb",
        "outputId": "d88e76e3-bf31-4a0c-e6fe-c932c88f4058",
        "colab": {
          "base_uri": "https://localhost:8080/"
        }
      },
      "outputs": [
        {
          "output_type": "execute_result",
          "data": {
            "text/plain": [
              "array([6, 7, 8])"
            ]
          },
          "metadata": {},
          "execution_count": 20
        }
      ],
      "source": [
        "# answer here\n",
        "arr1 = np.array([1,2,3])\n",
        "arr2= np.array([5])\n",
        "res_arr = arr1 + arr2\n",
        "res_arr"
      ]
    },
    {
      "cell_type": "markdown",
      "id": "853ec1d9",
      "metadata": {
        "id": "853ec1d9"
      },
      "source": [
        "### Q19. Given `a = np.array([1,2,3])` and `b = np.array([4,5,6])`, print `a + b` and `a * b` (element‑wise)."
      ]
    },
    {
      "cell_type": "code",
      "execution_count": 21,
      "id": "ad32b2d3",
      "metadata": {
        "id": "ad32b2d3",
        "outputId": "4ba3c19c-40f0-4b5b-cf40-eb654dab2755",
        "colab": {
          "base_uri": "https://localhost:8080/"
        }
      },
      "outputs": [
        {
          "output_type": "stream",
          "name": "stdout",
          "text": [
            "[5 7 9]\n",
            "[ 4 10 18]\n"
          ]
        }
      ],
      "source": [
        "# answer here\n",
        "a = np.array([1,2,3])\n",
        "b = np.array([4,5,6])\n",
        "print(a + b)\n",
        "print(a * b)"
      ]
    },
    {
      "cell_type": "markdown",
      "id": "23006681",
      "metadata": {
        "id": "23006681"
      },
      "source": [
        "### Q20. Given `a = np.array([1,2,3])` and `b = np.array([[10],[20],[30]])`, use broadcasting to compute `a + b` and print it."
      ]
    },
    {
      "cell_type": "code",
      "execution_count": 22,
      "id": "9110485b",
      "metadata": {
        "id": "9110485b",
        "outputId": "000a237b-8978-4709-a176-695e8232dd9a",
        "colab": {
          "base_uri": "https://localhost:8080/"
        }
      },
      "outputs": [
        {
          "output_type": "stream",
          "name": "stdout",
          "text": [
            "[[11 12 13]\n",
            " [21 22 23]\n",
            " [31 32 33]]\n"
          ]
        }
      ],
      "source": [
        "# answer here\n",
        "a = np.array([1,2,3])\n",
        "b = np.array([[10],[20],[30]])\n",
        "res = a + b\n",
        "print(res)"
      ]
    },
    {
      "cell_type": "markdown",
      "id": "1a19a3fe",
      "metadata": {
        "id": "1a19a3fe"
      },
      "source": [
        "### Q21. Given `arr = np.array([3, 7, 2, 9, 5])`, print its `sum`, `mean`, `min`, and `max`."
      ]
    },
    {
      "cell_type": "code",
      "execution_count": 23,
      "id": "9959cad3",
      "metadata": {
        "id": "9959cad3",
        "outputId": "3cf455d9-60ff-40e4-d4fc-03527c3d3259",
        "colab": {
          "base_uri": "https://localhost:8080/"
        }
      },
      "outputs": [
        {
          "output_type": "stream",
          "name": "stdout",
          "text": [
            "24\n",
            "4.8\n",
            "2\n",
            "9\n"
          ]
        }
      ],
      "source": [
        "# answer here\n",
        "a = np.array([3,5,2,9,5])\n",
        "print(sum(a))\n",
        "print(a.mean())\n",
        "print(min(a))\n",
        "print(max(a))"
      ]
    },
    {
      "cell_type": "markdown",
      "id": "99bd7b97",
      "metadata": {
        "id": "99bd7b97"
      },
      "source": [
        "### Q22. Given `m = np.arange(1,13).reshape(3,4)`, print the sum along axis 0 and along axis 1."
      ]
    },
    {
      "cell_type": "code",
      "execution_count": 24,
      "id": "445e24c1",
      "metadata": {
        "id": "445e24c1",
        "outputId": "1d4aedd7-bd1c-4c67-cd61-3919fa17955e",
        "colab": {
          "base_uri": "https://localhost:8080/"
        }
      },
      "outputs": [
        {
          "output_type": "stream",
          "name": "stdout",
          "text": [
            "[[ 1  2  3  4]\n",
            " [ 5  6  7  8]\n",
            " [ 9 10 11 12]]\n",
            "**************************************************\n",
            "[15 18 21 24]\n",
            "**************************************************\n",
            "[10 26 42]\n"
          ]
        }
      ],
      "source": [
        "# answer here\n",
        "m = np.arange(1,13).reshape(3,4)\n",
        "print(m)\n",
        "print(\"*\"*50)\n",
        "print(m.sum(axis=0))\n",
        "print(\"*\"*50)\n",
        "print(m.sum(axis=1))"
      ]
    },
    {
      "cell_type": "markdown",
      "id": "4d17e8e4",
      "metadata": {
        "id": "4d17e8e4"
      },
      "source": [
        "### Q23. Given `arr = np.array([10, 20, 5, 40, 25])`, print the indices of the `max` and `min` elements using `np.argmax` and `np.argmin`."
      ]
    },
    {
      "cell_type": "code",
      "execution_count": 25,
      "id": "6b21165b",
      "metadata": {
        "id": "6b21165b",
        "outputId": "848a4268-1396-448a-d136-bdfa014a1f60",
        "colab": {
          "base_uri": "https://localhost:8080/"
        }
      },
      "outputs": [
        {
          "output_type": "stream",
          "name": "stdout",
          "text": [
            "Indix of maximum element 3\n",
            "Index of minimum element 2\n"
          ]
        }
      ],
      "source": [
        "# answer here\n",
        "array =  np.array([10,20,5,40,25])\n",
        "print(\"Indix of maximum element\",array.argmax())\n",
        "print(\"Index of minimum element\",array.argmin())\n"
      ]
    },
    {
      "cell_type": "markdown",
      "id": "29775921",
      "metadata": {
        "id": "29775921"
      },
      "source": [
        "### Q24. Given `arr = np.array([3, 3, 1, 2, 2, 2, 5])`, print the sorted array and the unique values using `np.unique`."
      ]
    },
    {
      "cell_type": "code",
      "execution_count": 26,
      "id": "2edcba37",
      "metadata": {
        "id": "2edcba37",
        "outputId": "a91c1a93-4222-4953-859f-89cf396a31f2",
        "colab": {
          "base_uri": "https://localhost:8080/"
        }
      },
      "outputs": [
        {
          "output_type": "stream",
          "name": "stdout",
          "text": [
            "[ 2  2  3  3  5 12]\n",
            "[ 3  3 12  2  2  5]\n",
            "[ 2  3  5 12]\n"
          ]
        }
      ],
      "source": [
        "# answer here\n",
        "arr = np.array([3,3,12,2,2,5])\n",
        "print(np.sort(arr))\n",
        "print(arr)\n",
        "print(np.unique(arr))"
      ]
    },
    {
      "cell_type": "markdown",
      "id": "5c67ab94",
      "metadata": {
        "id": "5c67ab94"
      },
      "source": [
        "### Q25. Given `arr = np.array([9, 1, 5, 3, 7])`, sort it in ascending order and print the result (do not modify original)."
      ]
    },
    {
      "cell_type": "code",
      "execution_count": 27,
      "id": "18cc696e",
      "metadata": {
        "id": "18cc696e",
        "outputId": "7504ec1d-b2e3-42ca-a761-bbc1019ac2b6",
        "colab": {
          "base_uri": "https://localhost:8080/"
        }
      },
      "outputs": [
        {
          "output_type": "stream",
          "name": "stdout",
          "text": [
            "Original Arr: [9 1 5 3 7]\n",
            "Sorted Arr: [1 3 5 7 9]\n"
          ]
        }
      ],
      "source": [
        "# answer here\n",
        "arr = np.array([9,1,5,3,7])\n",
        "sorted_arr = np.sort(arr)\n",
        "print(\"Original Arr:\",arr)\n",
        "print(\"Sorted Arr:\",sorted_arr)"
      ]
    },
    {
      "cell_type": "markdown",
      "id": "6212bb71",
      "metadata": {
        "id": "6212bb71"
      },
      "source": [
        "### Q26. Given `a = np.array([1,2,3])` and `b = np.array([4,5,6])`, horizontally concatenate them and print the result."
      ]
    },
    {
      "cell_type": "code",
      "execution_count": 28,
      "id": "e0aa0047",
      "metadata": {
        "id": "e0aa0047",
        "outputId": "a77f453d-4d00-40d7-b192-f09b16851bb5",
        "colab": {
          "base_uri": "https://localhost:8080/"
        }
      },
      "outputs": [
        {
          "output_type": "execute_result",
          "data": {
            "text/plain": [
              "array([1, 2, 3, 4, 5, 6])"
            ]
          },
          "metadata": {},
          "execution_count": 28
        }
      ],
      "source": [
        "# answer here\n",
        "a = np.array([1,2,3])\n",
        "b = np.array([4,5,6])\n",
        "\n",
        "res = np.hstack((a,b))\n",
        "res"
      ]
    },
    {
      "cell_type": "markdown",
      "id": "b6402fff",
      "metadata": {
        "id": "b6402fff"
      },
      "source": [
        "### Q27. Given `A = np.array([[1,2],[3,4]])` and `B = np.array([[5,6],[7,8]])`, stack them vertically and print the result."
      ]
    },
    {
      "cell_type": "code",
      "execution_count": 29,
      "id": "7c3a4371",
      "metadata": {
        "id": "7c3a4371",
        "outputId": "16d6f7c8-fa98-46fd-e898-7f824c5c1d99",
        "colab": {
          "base_uri": "https://localhost:8080/"
        }
      },
      "outputs": [
        {
          "output_type": "execute_result",
          "data": {
            "text/plain": [
              "array([[1, 2],\n",
              "       [3, 4],\n",
              "       [5, 6],\n",
              "       [7, 8]])"
            ]
          },
          "metadata": {},
          "execution_count": 29
        }
      ],
      "source": [
        "# answer here\n",
        "A = np.array([[1,2],[3,4]])\n",
        "B = np.array([[5,6],[7,8]])\n",
        "\n",
        "res = np.concatenate((A,B), axis=0)\n",
        "res"
      ]
    },
    {
      "cell_type": "markdown",
      "id": "02e5de10",
      "metadata": {
        "id": "02e5de10"
      },
      "source": [
        "### Q28. Given `arr = np.arange(1,13)`, split it into 3 equal parts and print each part."
      ]
    },
    {
      "cell_type": "code",
      "execution_count": 30,
      "id": "d12a4038",
      "metadata": {
        "id": "d12a4038",
        "outputId": "d2238310-693e-43cf-d8b7-7300afefdb8c",
        "colab": {
          "base_uri": "https://localhost:8080/"
        }
      },
      "outputs": [
        {
          "output_type": "execute_result",
          "data": {
            "text/plain": [
              "array([[ 1,  2,  3],\n",
              "       [ 4,  5,  6],\n",
              "       [ 7,  8,  9],\n",
              "       [10, 11, 12]])"
            ]
          },
          "metadata": {},
          "execution_count": 30
        }
      ],
      "source": [
        "# answer here\n",
        "arr = np.arange(1,13).reshape(4,3)\n",
        "arr"
      ]
    },
    {
      "cell_type": "markdown",
      "id": "615e41c2",
      "metadata": {
        "id": "615e41c2"
      },
      "source": [
        "### Q29. Set a random seed (e.g., 42), generate 5 random integers from 0 to 9 using `np.random.randint`, and print them."
      ]
    },
    {
      "cell_type": "code",
      "execution_count": 31,
      "id": "b67e0170",
      "metadata": {
        "id": "b67e0170",
        "outputId": "0c39f8b6-0b12-4ac5-b800-ca67d883a800",
        "colab": {
          "base_uri": "https://localhost:8080/"
        }
      },
      "outputs": [
        {
          "output_type": "execute_result",
          "data": {
            "text/plain": [
              "array([6, 3, 7, 4, 6])"
            ]
          },
          "metadata": {},
          "execution_count": 31
        }
      ],
      "source": [
        "# answer here\n",
        "np.random.seed(42)\n",
        "arr = np.random.randint(0,10, size=5)\n",
        "arr"
      ]
    },
    {
      "cell_type": "markdown",
      "id": "011c3a33",
      "metadata": {
        "id": "011c3a33"
      },
      "source": [
        "### Q30. Given `arr = np.array([-3, 1, -1, 4, -2, 5])`, use `np.where` to replace negative values with `0` and print the new array."
      ]
    },
    {
      "cell_type": "code",
      "execution_count": 32,
      "id": "1e253753",
      "metadata": {
        "id": "1e253753",
        "outputId": "b522e860-174d-42e1-b4d0-4438cfcdfa03",
        "colab": {
          "base_uri": "https://localhost:8080/"
        }
      },
      "outputs": [
        {
          "output_type": "execute_result",
          "data": {
            "text/plain": [
              "array([0, 1, 0, 4, 0, 5])"
            ]
          },
          "metadata": {},
          "execution_count": 32
        }
      ],
      "source": [
        "# answer here\n",
        "arr = np.array([-3, 1, -1, 4, -2, 5])\n",
        "new_arr = np.where(arr<0,0,arr)\n",
        "new_arr"
      ]
    },
    {
      "cell_type": "markdown",
      "id": "a5364cd2",
      "metadata": {
        "id": "a5364cd2"
      },
      "source": [
        "### Q31. Create a 3D array of shape `(2, 3, 4)` using `np.arange` then compute the mean along axis 2 and print the result."
      ]
    },
    {
      "cell_type": "code",
      "execution_count": 33,
      "id": "42052fbd",
      "metadata": {
        "id": "42052fbd",
        "outputId": "7c877eee-fd33-4917-adca-ae31948f7534",
        "colab": {
          "base_uri": "https://localhost:8080/"
        }
      },
      "outputs": [
        {
          "output_type": "stream",
          "name": "stdout",
          "text": [
            "Original array [[[ 0  1  2  3]\n",
            "  [ 4  5  6  7]\n",
            "  [ 8  9 10 11]]\n",
            "\n",
            " [[12 13 14 15]\n",
            "  [16 17 18 19]\n",
            "  [20 21 22 23]]]\n",
            "[[ 1.5  5.5  9.5]\n",
            " [13.5 17.5 21.5]]\n"
          ]
        }
      ],
      "source": [
        "# answer here\n",
        "arr =  np.arange(24).reshape(2,3,4)\n",
        "print(\"Original array\",arr)\n",
        "print(arr.mean(axis=2))"
      ]
    },
    {
      "cell_type": "markdown",
      "id": "90a7b7cc",
      "metadata": {
        "id": "90a7b7cc"
      },
      "source": [
        "### Q32. Create an array from `[5, 10, 15, 20, 25]`, slice out `[10, 15, 20]`, then normalize that slice to range 0–1 using min‑max formula and print it."
      ]
    },
    {
      "cell_type": "code",
      "execution_count": 34,
      "id": "87a4a04b",
      "metadata": {
        "id": "87a4a04b",
        "outputId": "2cc7eff1-24c0-4fe0-a668-e79db99b50e7",
        "colab": {
          "base_uri": "https://localhost:8080/"
        }
      },
      "outputs": [
        {
          "output_type": "stream",
          "name": "stdout",
          "text": [
            "[ 5 10 15 20 25]\n",
            "************************************************************\n",
            "[10 15 20]\n",
            "************************************************************\n"
          ]
        },
        {
          "output_type": "execute_result",
          "data": {
            "text/plain": [
              "array([0. , 0.5, 1. ])"
            ]
          },
          "metadata": {},
          "execution_count": 34
        }
      ],
      "source": [
        "# answer here\n",
        "arr = np.array([5,10,15,20,25])\n",
        "res = arr[1:4]\n",
        "print(arr)\n",
        "print(\"*\"*60)\n",
        "print(res)\n",
        "print(\"*\"*60)\n",
        "norm_array = (res - res.min())/(res.max() - res.min())\n",
        "norm_array\n"
      ]
    },
    {
      "cell_type": "markdown",
      "id": "6167e37c",
      "metadata": {
        "id": "6167e37c"
      },
      "source": [
        "### Q33. Create two 1D arrays `a=[1,2,3]` and `b=[4,5,6]`; compute the dot product and also form a `3x2` matrix from `a` and `b` and print both results."
      ]
    },
    {
      "cell_type": "code",
      "execution_count": 35,
      "id": "d1ac86f0",
      "metadata": {
        "id": "d1ac86f0",
        "outputId": "614890ce-64d7-46a7-81e7-fb87a05a6937",
        "colab": {
          "base_uri": "https://localhost:8080/"
        }
      },
      "outputs": [
        {
          "output_type": "execute_result",
          "data": {
            "text/plain": [
              "array([[1, 4],\n",
              "       [2, 5],\n",
              "       [3, 6]])"
            ]
          },
          "metadata": {},
          "execution_count": 35
        }
      ],
      "source": [
        "# answer here\n",
        "a = np.array([1,2,3])\n",
        "b = np.array([4,5,6])\n",
        "dot_product =np.dot(a,b)\n",
        "dot_product\n",
        "np.column_stack((a,b))"
      ]
    },
    {
      "cell_type": "markdown",
      "id": "768cc1ec",
      "metadata": {
        "id": "768cc1ec"
      },
      "source": [
        "### Q34. Create an array of 12 values (1–12), reshape it to `3x4`, then count how many values are greater than `6` and print the count."
      ]
    },
    {
      "cell_type": "code",
      "execution_count": 36,
      "id": "74d303a2",
      "metadata": {
        "id": "74d303a2",
        "outputId": "90c93683-f0df-417b-e3bf-8f7542fa229e",
        "colab": {
          "base_uri": "https://localhost:8080/"
        }
      },
      "outputs": [
        {
          "output_type": "stream",
          "name": "stdout",
          "text": [
            "[[ 1  2  3  4]\n",
            " [ 5  6  7  8]\n",
            " [ 9 10 11 12]]\n",
            "Count of values in arr > 6 are:  6\n"
          ]
        }
      ],
      "source": [
        "# answer here\n",
        "arr = np.arange(1,13).reshape(3,4)\n",
        "res = np.sum(arr>6)\n",
        "print(arr)\n",
        "print(\"Count of values in arr > 6 are: \", res)"
      ]
    },
    {
      "cell_type": "markdown",
      "id": "9dc33ec2",
      "metadata": {
        "id": "9dc33ec2"
      },
      "source": [
        "### Q35. Create an array from 0–9; replace all odd numbers with `-1` *except* keep the first and last elements unchanged; print the final array."
      ]
    },
    {
      "cell_type": "code",
      "execution_count": 37,
      "id": "7e270c74",
      "metadata": {
        "id": "7e270c74",
        "outputId": "41001e4a-d304-4a0d-c7d1-73cb0b34bab2",
        "colab": {
          "base_uri": "https://localhost:8080/"
        }
      },
      "outputs": [
        {
          "output_type": "execute_result",
          "data": {
            "text/plain": [
              "array([ 0, -1,  2, -1,  4, -1,  6, -1,  8,  9])"
            ]
          },
          "metadata": {},
          "execution_count": 37
        }
      ],
      "source": [
        "# answer here\n",
        "arr = np.arange(10)\n",
        "res = np.where((arr%2 != 0) & (arr != arr[0]) & (arr != arr[-1]),-1,arr)\n",
        "res"
      ]
    },
    {
      "cell_type": "markdown",
      "id": "6079a0e7",
      "metadata": {
        "id": "6079a0e7"
      },
      "source": [
        "### Dataset for Q36–Q40\n",
        "\n",
        "A CSV file **`students_scores.csv`** is already placed in this folder (Link-https://drive.google.com/file/d/1B7zDahhmQzXkQmvskS27H07B4Xftf9xA/view?usp=sharing).  \n",
        "\n",
        "Columns: `id, math, english, science` (10 students). Use **pandas** to import the file and then perform **NumPy** operations.\n"
      ]
    },
    {
      "cell_type": "markdown",
      "id": "a13f8d60",
      "metadata": {
        "id": "a13f8d60"
      },
      "source": [
        "### Q36. Import `students_scores.csv` as a pandas DataFrame `df`. Then convert the `math`, `english`, and `science` columns to separate NumPy arrays and print their shapes."
      ]
    },
    {
      "cell_type": "code",
      "execution_count": 38,
      "id": "d144170d",
      "metadata": {
        "id": "d144170d",
        "outputId": "1b77791b-9ecc-49b9-ef76-b4f1166ff6c3",
        "colab": {
          "base_uri": "https://localhost:8080/"
        }
      },
      "outputs": [
        {
          "output_type": "stream",
          "name": "stdout",
          "text": [
            "Index(['id', 'math', 'english', 'science'], dtype='object')\n",
            "(1, 10)\n",
            "(1, 10)\n",
            "(1, 10)\n"
          ]
        }
      ],
      "source": [
        "# answer here\n",
        "df = pd.read_csv('students_scores.csv')\n",
        "print(df.columns)\n",
        "m_arr = np.array([df['math']])\n",
        "e_arr =  np.array([df['english']])\n",
        "s_arr =  np.array([df['science']])\n",
        "print(m_arr.shape)\n",
        "print(e_arr.shape)\n",
        "print(s_arr.shape)"
      ]
    },
    {
      "cell_type": "markdown",
      "id": "75133471",
      "metadata": {
        "id": "75133471"
      },
      "source": [
        "### Q37. Using NumPy on the arrays from Q36, compute the mean score of each subject (math, english, science) and print them."
      ]
    },
    {
      "cell_type": "code",
      "execution_count": 39,
      "id": "2a0f8fa4",
      "metadata": {
        "id": "2a0f8fa4",
        "outputId": "73bd0716-e3d5-4efd-a29e-e747ab950605",
        "colab": {
          "base_uri": "https://localhost:8080/"
        }
      },
      "outputs": [
        {
          "output_type": "stream",
          "name": "stdout",
          "text": [
            "70.3\n",
            "69.5\n",
            "70.1\n"
          ]
        }
      ],
      "source": [
        "# answer here\n",
        "print(m_arr.mean())\n",
        "print(e_arr.mean())\n",
        "print(s_arr.mean())"
      ]
    },
    {
      "cell_type": "markdown",
      "id": "ff04b9d9",
      "metadata": {
        "id": "ff04b9d9"
      },
      "source": [
        "### Q38. Using NumPy, compute each student’s **total score** (math + english + science) and print the `id` of the student with the highest total."
      ]
    },
    {
      "cell_type": "code",
      "execution_count": 56,
      "id": "30e375cf",
      "metadata": {
        "id": "30e375cf",
        "outputId": "9eed8e71-03d2-4ae2-fcf4-74225280c3d6",
        "colab": {
          "base_uri": "https://localhost:8080/"
        }
      },
      "outputs": [
        {
          "output_type": "stream",
          "name": "stdout",
          "text": [
            "['S01' 'S02' 'S03' 'S04' 'S05' 'S06' 'S07' 'S08' 'S09' 'S10']\n",
            "Highest Student ID for total marks S03\n"
          ]
        }
      ],
      "source": [
        "# answer here\n",
        "total = m_arr + e_arr + s_arr\n",
        "res = total.argmax()\n",
        "res\n",
        "id = np.array(df['id'])\n",
        "print(id)\n",
        "print(\"Highest Student ID for total marks\", id[res])"
      ]
    },
    {
      "cell_type": "markdown",
      "id": "187f60d3",
      "metadata": {
        "id": "187f60d3"
      },
      "source": [
        "### Q39. Using NumPy, standardize the `math` scores to **z-scores**: `(x - mean) / std` and print the first 5 standardized values."
      ]
    },
    {
      "cell_type": "code",
      "execution_count": 60,
      "id": "a92c0ff5",
      "metadata": {
        "id": "a92c0ff5",
        "colab": {
          "base_uri": "https://localhost:8080/"
        },
        "outputId": "22bdbb9e-f2ff-432a-f44d-edf35bac07f8"
      },
      "outputs": [
        {
          "output_type": "stream",
          "name": "stdout",
          "text": [
            "[ 0.53032869 -0.98489614  1.21906724 -1.74250855  1.49456267]\n"
          ]
        }
      ],
      "source": [
        "# answer here\n",
        "math_Score = df['math'].values\n",
        "math_Score\n",
        "z_scores = (math_Score - np.mean(math_Score))/np.std(math_Score)\n",
        "print(z_scores[:5])"
      ]
    },
    {
      "cell_type": "code",
      "execution_count": 42,
      "id": "26e6be36",
      "metadata": {
        "id": "26e6be36",
        "colab": {
          "base_uri": "https://localhost:8080/"
        },
        "outputId": "b6830719-efe9-4b42-dd37-cb9e173acf4a"
      },
      "outputs": [
        {
          "output_type": "stream",
          "name": "stdout",
          "text": [
            "[ 0.53032869 -0.98489614  1.21906724 -1.74250855  1.49456267]\n"
          ]
        }
      ],
      "source": [
        "# this is how you can approach question number 39\n",
        "# dont fear about std(standard deviation , just google it and you understand its simple, else you can connect for doubts)\n",
        "\n",
        "\n",
        "import pandas as pd\n",
        "import numpy as np\n",
        "\n",
        "# Load the dataset\n",
        "df = pd.read_csv(\"students_scores.csv\")\n",
        "\n",
        "# Extract math column as NumPy array\n",
        "math_scores = df[\"math\"].values\n",
        "\n",
        "# Compute z-scores\n",
        "z_scores = (math_scores - np.mean(math_scores)) / np.std(math_scores)\n",
        "\n",
        "# Print first 5 standardized values\n",
        "print(z_scores[:5])\n"
      ]
    },
    {
      "cell_type": "markdown",
      "id": "dc5f1055",
      "metadata": {
        "id": "dc5f1055"
      },
      "source": [
        "### Q40. Using NumPy logical operations, count how many students scored **≥ 70 in all three subjects** and print that count."
      ]
    },
    {
      "cell_type": "code",
      "execution_count": 62,
      "id": "35f3e206",
      "metadata": {
        "id": "35f3e206",
        "colab": {
          "base_uri": "https://localhost:8080/",
          "height": 363
        },
        "outputId": "7c5596f9-b428-4f00-aaa8-c9bfcaacc48e"
      },
      "outputs": [
        {
          "output_type": "execute_result",
          "data": {
            "text/plain": [
              "    id  math  english  science\n",
              "0  S01    78       65       72\n",
              "1  S02    56       70       60\n",
              "2  S03    88       81       90\n",
              "3  S04    45       55       48\n",
              "4  S05    92       76       85\n",
              "5  S06    67       62       71\n",
              "6  S07    73       80       66\n",
              "7  S08    59       58       64\n",
              "8  S09    84       79       88\n",
              "9  S10    61       69       57"
            ],
            "text/html": [
              "\n",
              "  <div id=\"df-d9c82aa7-c510-4f87-be8f-833711a9df5e\" class=\"colab-df-container\">\n",
              "    <div>\n",
              "<style scoped>\n",
              "    .dataframe tbody tr th:only-of-type {\n",
              "        vertical-align: middle;\n",
              "    }\n",
              "\n",
              "    .dataframe tbody tr th {\n",
              "        vertical-align: top;\n",
              "    }\n",
              "\n",
              "    .dataframe thead th {\n",
              "        text-align: right;\n",
              "    }\n",
              "</style>\n",
              "<table border=\"1\" class=\"dataframe\">\n",
              "  <thead>\n",
              "    <tr style=\"text-align: right;\">\n",
              "      <th></th>\n",
              "      <th>id</th>\n",
              "      <th>math</th>\n",
              "      <th>english</th>\n",
              "      <th>science</th>\n",
              "    </tr>\n",
              "  </thead>\n",
              "  <tbody>\n",
              "    <tr>\n",
              "      <th>0</th>\n",
              "      <td>S01</td>\n",
              "      <td>78</td>\n",
              "      <td>65</td>\n",
              "      <td>72</td>\n",
              "    </tr>\n",
              "    <tr>\n",
              "      <th>1</th>\n",
              "      <td>S02</td>\n",
              "      <td>56</td>\n",
              "      <td>70</td>\n",
              "      <td>60</td>\n",
              "    </tr>\n",
              "    <tr>\n",
              "      <th>2</th>\n",
              "      <td>S03</td>\n",
              "      <td>88</td>\n",
              "      <td>81</td>\n",
              "      <td>90</td>\n",
              "    </tr>\n",
              "    <tr>\n",
              "      <th>3</th>\n",
              "      <td>S04</td>\n",
              "      <td>45</td>\n",
              "      <td>55</td>\n",
              "      <td>48</td>\n",
              "    </tr>\n",
              "    <tr>\n",
              "      <th>4</th>\n",
              "      <td>S05</td>\n",
              "      <td>92</td>\n",
              "      <td>76</td>\n",
              "      <td>85</td>\n",
              "    </tr>\n",
              "    <tr>\n",
              "      <th>5</th>\n",
              "      <td>S06</td>\n",
              "      <td>67</td>\n",
              "      <td>62</td>\n",
              "      <td>71</td>\n",
              "    </tr>\n",
              "    <tr>\n",
              "      <th>6</th>\n",
              "      <td>S07</td>\n",
              "      <td>73</td>\n",
              "      <td>80</td>\n",
              "      <td>66</td>\n",
              "    </tr>\n",
              "    <tr>\n",
              "      <th>7</th>\n",
              "      <td>S08</td>\n",
              "      <td>59</td>\n",
              "      <td>58</td>\n",
              "      <td>64</td>\n",
              "    </tr>\n",
              "    <tr>\n",
              "      <th>8</th>\n",
              "      <td>S09</td>\n",
              "      <td>84</td>\n",
              "      <td>79</td>\n",
              "      <td>88</td>\n",
              "    </tr>\n",
              "    <tr>\n",
              "      <th>9</th>\n",
              "      <td>S10</td>\n",
              "      <td>61</td>\n",
              "      <td>69</td>\n",
              "      <td>57</td>\n",
              "    </tr>\n",
              "  </tbody>\n",
              "</table>\n",
              "</div>\n",
              "    <div class=\"colab-df-buttons\">\n",
              "\n",
              "  <div class=\"colab-df-container\">\n",
              "    <button class=\"colab-df-convert\" onclick=\"convertToInteractive('df-d9c82aa7-c510-4f87-be8f-833711a9df5e')\"\n",
              "            title=\"Convert this dataframe to an interactive table.\"\n",
              "            style=\"display:none;\">\n",
              "\n",
              "  <svg xmlns=\"http://www.w3.org/2000/svg\" height=\"24px\" viewBox=\"0 -960 960 960\">\n",
              "    <path d=\"M120-120v-720h720v720H120Zm60-500h600v-160H180v160Zm220 220h160v-160H400v160Zm0 220h160v-160H400v160ZM180-400h160v-160H180v160Zm440 0h160v-160H620v160ZM180-180h160v-160H180v160Zm440 0h160v-160H620v160Z\"/>\n",
              "  </svg>\n",
              "    </button>\n",
              "\n",
              "  <style>\n",
              "    .colab-df-container {\n",
              "      display:flex;\n",
              "      gap: 12px;\n",
              "    }\n",
              "\n",
              "    .colab-df-convert {\n",
              "      background-color: #E8F0FE;\n",
              "      border: none;\n",
              "      border-radius: 50%;\n",
              "      cursor: pointer;\n",
              "      display: none;\n",
              "      fill: #1967D2;\n",
              "      height: 32px;\n",
              "      padding: 0 0 0 0;\n",
              "      width: 32px;\n",
              "    }\n",
              "\n",
              "    .colab-df-convert:hover {\n",
              "      background-color: #E2EBFA;\n",
              "      box-shadow: 0px 1px 2px rgba(60, 64, 67, 0.3), 0px 1px 3px 1px rgba(60, 64, 67, 0.15);\n",
              "      fill: #174EA6;\n",
              "    }\n",
              "\n",
              "    .colab-df-buttons div {\n",
              "      margin-bottom: 4px;\n",
              "    }\n",
              "\n",
              "    [theme=dark] .colab-df-convert {\n",
              "      background-color: #3B4455;\n",
              "      fill: #D2E3FC;\n",
              "    }\n",
              "\n",
              "    [theme=dark] .colab-df-convert:hover {\n",
              "      background-color: #434B5C;\n",
              "      box-shadow: 0px 1px 3px 1px rgba(0, 0, 0, 0.15);\n",
              "      filter: drop-shadow(0px 1px 2px rgba(0, 0, 0, 0.3));\n",
              "      fill: #FFFFFF;\n",
              "    }\n",
              "  </style>\n",
              "\n",
              "    <script>\n",
              "      const buttonEl =\n",
              "        document.querySelector('#df-d9c82aa7-c510-4f87-be8f-833711a9df5e button.colab-df-convert');\n",
              "      buttonEl.style.display =\n",
              "        google.colab.kernel.accessAllowed ? 'block' : 'none';\n",
              "\n",
              "      async function convertToInteractive(key) {\n",
              "        const element = document.querySelector('#df-d9c82aa7-c510-4f87-be8f-833711a9df5e');\n",
              "        const dataTable =\n",
              "          await google.colab.kernel.invokeFunction('convertToInteractive',\n",
              "                                                    [key], {});\n",
              "        if (!dataTable) return;\n",
              "\n",
              "        const docLinkHtml = 'Like what you see? Visit the ' +\n",
              "          '<a target=\"_blank\" href=https://colab.research.google.com/notebooks/data_table.ipynb>data table notebook</a>'\n",
              "          + ' to learn more about interactive tables.';\n",
              "        element.innerHTML = '';\n",
              "        dataTable['output_type'] = 'display_data';\n",
              "        await google.colab.output.renderOutput(dataTable, element);\n",
              "        const docLink = document.createElement('div');\n",
              "        docLink.innerHTML = docLinkHtml;\n",
              "        element.appendChild(docLink);\n",
              "      }\n",
              "    </script>\n",
              "  </div>\n",
              "\n",
              "\n",
              "    <div id=\"df-8048e341-b0fa-4fc4-9fbf-9dd037541644\">\n",
              "      <button class=\"colab-df-quickchart\" onclick=\"quickchart('df-8048e341-b0fa-4fc4-9fbf-9dd037541644')\"\n",
              "                title=\"Suggest charts\"\n",
              "                style=\"display:none;\">\n",
              "\n",
              "<svg xmlns=\"http://www.w3.org/2000/svg\" height=\"24px\"viewBox=\"0 0 24 24\"\n",
              "     width=\"24px\">\n",
              "    <g>\n",
              "        <path d=\"M19 3H5c-1.1 0-2 .9-2 2v14c0 1.1.9 2 2 2h14c1.1 0 2-.9 2-2V5c0-1.1-.9-2-2-2zM9 17H7v-7h2v7zm4 0h-2V7h2v10zm4 0h-2v-4h2v4z\"/>\n",
              "    </g>\n",
              "</svg>\n",
              "      </button>\n",
              "\n",
              "<style>\n",
              "  .colab-df-quickchart {\n",
              "      --bg-color: #E8F0FE;\n",
              "      --fill-color: #1967D2;\n",
              "      --hover-bg-color: #E2EBFA;\n",
              "      --hover-fill-color: #174EA6;\n",
              "      --disabled-fill-color: #AAA;\n",
              "      --disabled-bg-color: #DDD;\n",
              "  }\n",
              "\n",
              "  [theme=dark] .colab-df-quickchart {\n",
              "      --bg-color: #3B4455;\n",
              "      --fill-color: #D2E3FC;\n",
              "      --hover-bg-color: #434B5C;\n",
              "      --hover-fill-color: #FFFFFF;\n",
              "      --disabled-bg-color: #3B4455;\n",
              "      --disabled-fill-color: #666;\n",
              "  }\n",
              "\n",
              "  .colab-df-quickchart {\n",
              "    background-color: var(--bg-color);\n",
              "    border: none;\n",
              "    border-radius: 50%;\n",
              "    cursor: pointer;\n",
              "    display: none;\n",
              "    fill: var(--fill-color);\n",
              "    height: 32px;\n",
              "    padding: 0;\n",
              "    width: 32px;\n",
              "  }\n",
              "\n",
              "  .colab-df-quickchart:hover {\n",
              "    background-color: var(--hover-bg-color);\n",
              "    box-shadow: 0 1px 2px rgba(60, 64, 67, 0.3), 0 1px 3px 1px rgba(60, 64, 67, 0.15);\n",
              "    fill: var(--button-hover-fill-color);\n",
              "  }\n",
              "\n",
              "  .colab-df-quickchart-complete:disabled,\n",
              "  .colab-df-quickchart-complete:disabled:hover {\n",
              "    background-color: var(--disabled-bg-color);\n",
              "    fill: var(--disabled-fill-color);\n",
              "    box-shadow: none;\n",
              "  }\n",
              "\n",
              "  .colab-df-spinner {\n",
              "    border: 2px solid var(--fill-color);\n",
              "    border-color: transparent;\n",
              "    border-bottom-color: var(--fill-color);\n",
              "    animation:\n",
              "      spin 1s steps(1) infinite;\n",
              "  }\n",
              "\n",
              "  @keyframes spin {\n",
              "    0% {\n",
              "      border-color: transparent;\n",
              "      border-bottom-color: var(--fill-color);\n",
              "      border-left-color: var(--fill-color);\n",
              "    }\n",
              "    20% {\n",
              "      border-color: transparent;\n",
              "      border-left-color: var(--fill-color);\n",
              "      border-top-color: var(--fill-color);\n",
              "    }\n",
              "    30% {\n",
              "      border-color: transparent;\n",
              "      border-left-color: var(--fill-color);\n",
              "      border-top-color: var(--fill-color);\n",
              "      border-right-color: var(--fill-color);\n",
              "    }\n",
              "    40% {\n",
              "      border-color: transparent;\n",
              "      border-right-color: var(--fill-color);\n",
              "      border-top-color: var(--fill-color);\n",
              "    }\n",
              "    60% {\n",
              "      border-color: transparent;\n",
              "      border-right-color: var(--fill-color);\n",
              "    }\n",
              "    80% {\n",
              "      border-color: transparent;\n",
              "      border-right-color: var(--fill-color);\n",
              "      border-bottom-color: var(--fill-color);\n",
              "    }\n",
              "    90% {\n",
              "      border-color: transparent;\n",
              "      border-bottom-color: var(--fill-color);\n",
              "    }\n",
              "  }\n",
              "</style>\n",
              "\n",
              "      <script>\n",
              "        async function quickchart(key) {\n",
              "          const quickchartButtonEl =\n",
              "            document.querySelector('#' + key + ' button');\n",
              "          quickchartButtonEl.disabled = true;  // To prevent multiple clicks.\n",
              "          quickchartButtonEl.classList.add('colab-df-spinner');\n",
              "          try {\n",
              "            const charts = await google.colab.kernel.invokeFunction(\n",
              "                'suggestCharts', [key], {});\n",
              "          } catch (error) {\n",
              "            console.error('Error during call to suggestCharts:', error);\n",
              "          }\n",
              "          quickchartButtonEl.classList.remove('colab-df-spinner');\n",
              "          quickchartButtonEl.classList.add('colab-df-quickchart-complete');\n",
              "        }\n",
              "        (() => {\n",
              "          let quickchartButtonEl =\n",
              "            document.querySelector('#df-8048e341-b0fa-4fc4-9fbf-9dd037541644 button');\n",
              "          quickchartButtonEl.style.display =\n",
              "            google.colab.kernel.accessAllowed ? 'block' : 'none';\n",
              "        })();\n",
              "      </script>\n",
              "    </div>\n",
              "\n",
              "  <div id=\"id_bdf2cd8f-4864-4ab8-ab2b-524dbf849acf\">\n",
              "    <style>\n",
              "      .colab-df-generate {\n",
              "        background-color: #E8F0FE;\n",
              "        border: none;\n",
              "        border-radius: 50%;\n",
              "        cursor: pointer;\n",
              "        display: none;\n",
              "        fill: #1967D2;\n",
              "        height: 32px;\n",
              "        padding: 0 0 0 0;\n",
              "        width: 32px;\n",
              "      }\n",
              "\n",
              "      .colab-df-generate:hover {\n",
              "        background-color: #E2EBFA;\n",
              "        box-shadow: 0px 1px 2px rgba(60, 64, 67, 0.3), 0px 1px 3px 1px rgba(60, 64, 67, 0.15);\n",
              "        fill: #174EA6;\n",
              "      }\n",
              "\n",
              "      [theme=dark] .colab-df-generate {\n",
              "        background-color: #3B4455;\n",
              "        fill: #D2E3FC;\n",
              "      }\n",
              "\n",
              "      [theme=dark] .colab-df-generate:hover {\n",
              "        background-color: #434B5C;\n",
              "        box-shadow: 0px 1px 3px 1px rgba(0, 0, 0, 0.15);\n",
              "        filter: drop-shadow(0px 1px 2px rgba(0, 0, 0, 0.3));\n",
              "        fill: #FFFFFF;\n",
              "      }\n",
              "    </style>\n",
              "    <button class=\"colab-df-generate\" onclick=\"generateWithVariable('df')\"\n",
              "            title=\"Generate code using this dataframe.\"\n",
              "            style=\"display:none;\">\n",
              "\n",
              "  <svg xmlns=\"http://www.w3.org/2000/svg\" height=\"24px\"viewBox=\"0 0 24 24\"\n",
              "       width=\"24px\">\n",
              "    <path d=\"M7,19H8.4L18.45,9,17,7.55,7,17.6ZM5,21V16.75L18.45,3.32a2,2,0,0,1,2.83,0l1.4,1.43a1.91,1.91,0,0,1,.58,1.4,1.91,1.91,0,0,1-.58,1.4L9.25,21ZM18.45,9,17,7.55Zm-12,3A5.31,5.31,0,0,0,4.9,8.1,5.31,5.31,0,0,0,1,6.5,5.31,5.31,0,0,0,4.9,4.9,5.31,5.31,0,0,0,6.5,1,5.31,5.31,0,0,0,8.1,4.9,5.31,5.31,0,0,0,12,6.5,5.46,5.46,0,0,0,6.5,12Z\"/>\n",
              "  </svg>\n",
              "    </button>\n",
              "    <script>\n",
              "      (() => {\n",
              "      const buttonEl =\n",
              "        document.querySelector('#id_bdf2cd8f-4864-4ab8-ab2b-524dbf849acf button.colab-df-generate');\n",
              "      buttonEl.style.display =\n",
              "        google.colab.kernel.accessAllowed ? 'block' : 'none';\n",
              "\n",
              "      buttonEl.onclick = () => {\n",
              "        google.colab.notebook.generateWithVariable('df');\n",
              "      }\n",
              "      })();\n",
              "    </script>\n",
              "  </div>\n",
              "\n",
              "    </div>\n",
              "  </div>\n"
            ],
            "application/vnd.google.colaboratory.intrinsic+json": {
              "type": "dataframe",
              "variable_name": "df",
              "summary": "{\n  \"name\": \"df\",\n  \"rows\": 10,\n  \"fields\": [\n    {\n      \"column\": \"id\",\n      \"properties\": {\n        \"dtype\": \"string\",\n        \"num_unique_values\": 10,\n        \"samples\": [\n          \"S09\",\n          \"S02\",\n          \"S06\"\n        ],\n        \"semantic_type\": \"\",\n        \"description\": \"\"\n      }\n    },\n    {\n      \"column\": \"math\",\n      \"properties\": {\n        \"dtype\": \"number\",\n        \"std\": 15,\n        \"min\": 45,\n        \"max\": 92,\n        \"num_unique_values\": 10,\n        \"samples\": [\n          84,\n          56,\n          67\n        ],\n        \"semantic_type\": \"\",\n        \"description\": \"\"\n      }\n    },\n    {\n      \"column\": \"english\",\n      \"properties\": {\n        \"dtype\": \"number\",\n        \"std\": 9,\n        \"min\": 55,\n        \"max\": 81,\n        \"num_unique_values\": 10,\n        \"samples\": [\n          79,\n          70,\n          62\n        ],\n        \"semantic_type\": \"\",\n        \"description\": \"\"\n      }\n    },\n    {\n      \"column\": \"science\",\n      \"properties\": {\n        \"dtype\": \"number\",\n        \"std\": 13,\n        \"min\": 48,\n        \"max\": 90,\n        \"num_unique_values\": 10,\n        \"samples\": [\n          88,\n          60,\n          71\n        ],\n        \"semantic_type\": \"\",\n        \"description\": \"\"\n      }\n    }\n  ]\n}"
            }
          },
          "metadata": {},
          "execution_count": 62
        }
      ],
      "source": [
        "# answer here\n"
      ]
    },
    {
      "cell_type": "code",
      "source": [
        "passed = np.where((df['math'].values > 70) & (df['english'].values > 70) & (df['science'].values > 70))"
      ],
      "metadata": {
        "id": "g7RqvgIt0avL"
      },
      "id": "g7RqvgIt0avL",
      "execution_count": 69,
      "outputs": []
    },
    {
      "cell_type": "code",
      "source": [
        "np.sum(passed)\n",
        "passed"
      ],
      "metadata": {
        "colab": {
          "base_uri": "https://localhost:8080/"
        },
        "id": "TxSfOrXx09fi",
        "outputId": "87d9be68-ce26-4c19-b5ff-657a4b3e965b"
      },
      "id": "TxSfOrXx09fi",
      "execution_count": 71,
      "outputs": [
        {
          "output_type": "execute_result",
          "data": {
            "text/plain": [
              "(array([2, 4, 8]),)"
            ]
          },
          "metadata": {},
          "execution_count": 71
        }
      ]
    },
    {
      "cell_type": "code",
      "source": [
        "passed_all = (m_arr >= 70) & (e_arr>= 70) & (s_arr>= 70)\n",
        "print(passed_all)\n",
        "\n",
        "count = np.sum(passed_all)\n",
        "\n",
        "print(\"Students who scored ≥70 in all subjects:\", count)"
      ],
      "metadata": {
        "colab": {
          "base_uri": "https://localhost:8080/"
        },
        "id": "H36Il-BS2Kd9",
        "outputId": "e7df95d6-2be8-435d-8d20-95f59f469a62"
      },
      "id": "H36Il-BS2Kd9",
      "execution_count": 74,
      "outputs": [
        {
          "output_type": "stream",
          "name": "stdout",
          "text": [
            "[[False False  True False  True False False False  True False]]\n",
            "Students who scored ≥70 in all subjects: 3\n"
          ]
        }
      ]
    },
    {
      "cell_type": "code",
      "source": [],
      "metadata": {
        "id": "-fuzohku2YaU"
      },
      "id": "-fuzohku2YaU",
      "execution_count": null,
      "outputs": []
    }
  ],
  "metadata": {
    "language_info": {
      "name": "python"
    },
    "colab": {
      "provenance": []
    },
    "kernelspec": {
      "name": "python3",
      "display_name": "Python 3"
    }
  },
  "nbformat": 4,
  "nbformat_minor": 5
}