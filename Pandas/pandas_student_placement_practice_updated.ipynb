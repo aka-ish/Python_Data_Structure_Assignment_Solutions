{
  "cells": [
    {
      "cell_type": "markdown",
      "id": "807e8321",
      "metadata": {
        "id": "807e8321"
      },
      "source": [
        "# Student Placement Data Analysis using Pandas\n",
        "\n",
        "This notebook helps you practice real-world **Pandas Data Analysis** tasks using the dataset `student_placement_data.csv`.\n",
        "\n",
        "Each question builds your understanding step-by-step.\n",
        "\n",
        "---\n"
      ]
    },
    {
      "cell_type": "markdown",
      "id": "77307a23",
      "metadata": {
        "id": "77307a23"
      },
      "source": [
        "### 1️⃣ Load and Explore the Dataset\n",
        "Load the dataset and display the first 5 rows to get an overview."
      ]
    },
    {
      "cell_type": "code",
      "execution_count": 1,
      "id": "fdaa6d25",
      "metadata": {
        "id": "fdaa6d25",
        "outputId": "fb624762-ea97-4351-95a0-ceb6e0209859",
        "colab": {
          "base_uri": "https://localhost:8080/",
          "height": 452
        }
      },
      "outputs": [
        {
          "output_type": "execute_result",
          "data": {
            "text/plain": [
              "  Student_ID    Student_Name              Course  Assignment_Completion_%  \\\n",
              "0     STU001      Ishaan Das      Data Analytics                       83   \n",
              "1     STU002     Anika Patel  Full Stack Web Dev                       96   \n",
              "2     STU003    Aditya Kumar  Full Stack Web Dev                       73   \n",
              "3     STU004    Aditya Verma  Full Stack Web Dev                       59   \n",
              "4     STU005  Krishna Sharma  Full Stack Web Dev                       87   \n",
              "\n",
              "   Content_Score_Avg  Communication_Skill_(10) Batch_Start_Date Placed  \\\n",
              "0                 53                         9       2024-05-19    Yes   \n",
              "1                 42                         5       2024-02-17     No   \n",
              "2                 40                         6       2024-08-12    Yes   \n",
              "3                 44                        10       2024-02-19    Yes   \n",
              "4                 65                         9       2024-02-23    Yes   \n",
              "\n",
              "   CTC_LPA  \n",
              "0     7.60  \n",
              "1      NaN  \n",
              "2     4.29  \n",
              "3     5.33  \n",
              "4     6.51  "
            ],
            "text/html": [
              "\n",
              "  <div id=\"df-296b2bf5-93e7-407c-a587-cb52e0593f9a\" class=\"colab-df-container\">\n",
              "    <div>\n",
              "<style scoped>\n",
              "    .dataframe tbody tr th:only-of-type {\n",
              "        vertical-align: middle;\n",
              "    }\n",
              "\n",
              "    .dataframe tbody tr th {\n",
              "        vertical-align: top;\n",
              "    }\n",
              "\n",
              "    .dataframe thead th {\n",
              "        text-align: right;\n",
              "    }\n",
              "</style>\n",
              "<table border=\"1\" class=\"dataframe\">\n",
              "  <thead>\n",
              "    <tr style=\"text-align: right;\">\n",
              "      <th></th>\n",
              "      <th>Student_ID</th>\n",
              "      <th>Student_Name</th>\n",
              "      <th>Course</th>\n",
              "      <th>Assignment_Completion_%</th>\n",
              "      <th>Content_Score_Avg</th>\n",
              "      <th>Communication_Skill_(10)</th>\n",
              "      <th>Batch_Start_Date</th>\n",
              "      <th>Placed</th>\n",
              "      <th>CTC_LPA</th>\n",
              "    </tr>\n",
              "  </thead>\n",
              "  <tbody>\n",
              "    <tr>\n",
              "      <th>0</th>\n",
              "      <td>STU001</td>\n",
              "      <td>Ishaan Das</td>\n",
              "      <td>Data Analytics</td>\n",
              "      <td>83</td>\n",
              "      <td>53</td>\n",
              "      <td>9</td>\n",
              "      <td>2024-05-19</td>\n",
              "      <td>Yes</td>\n",
              "      <td>7.60</td>\n",
              "    </tr>\n",
              "    <tr>\n",
              "      <th>1</th>\n",
              "      <td>STU002</td>\n",
              "      <td>Anika Patel</td>\n",
              "      <td>Full Stack Web Dev</td>\n",
              "      <td>96</td>\n",
              "      <td>42</td>\n",
              "      <td>5</td>\n",
              "      <td>2024-02-17</td>\n",
              "      <td>No</td>\n",
              "      <td>NaN</td>\n",
              "    </tr>\n",
              "    <tr>\n",
              "      <th>2</th>\n",
              "      <td>STU003</td>\n",
              "      <td>Aditya Kumar</td>\n",
              "      <td>Full Stack Web Dev</td>\n",
              "      <td>73</td>\n",
              "      <td>40</td>\n",
              "      <td>6</td>\n",
              "      <td>2024-08-12</td>\n",
              "      <td>Yes</td>\n",
              "      <td>4.29</td>\n",
              "    </tr>\n",
              "    <tr>\n",
              "      <th>3</th>\n",
              "      <td>STU004</td>\n",
              "      <td>Aditya Verma</td>\n",
              "      <td>Full Stack Web Dev</td>\n",
              "      <td>59</td>\n",
              "      <td>44</td>\n",
              "      <td>10</td>\n",
              "      <td>2024-02-19</td>\n",
              "      <td>Yes</td>\n",
              "      <td>5.33</td>\n",
              "    </tr>\n",
              "    <tr>\n",
              "      <th>4</th>\n",
              "      <td>STU005</td>\n",
              "      <td>Krishna Sharma</td>\n",
              "      <td>Full Stack Web Dev</td>\n",
              "      <td>87</td>\n",
              "      <td>65</td>\n",
              "      <td>9</td>\n",
              "      <td>2024-02-23</td>\n",
              "      <td>Yes</td>\n",
              "      <td>6.51</td>\n",
              "    </tr>\n",
              "  </tbody>\n",
              "</table>\n",
              "</div>\n",
              "    <div class=\"colab-df-buttons\">\n",
              "\n",
              "  <div class=\"colab-df-container\">\n",
              "    <button class=\"colab-df-convert\" onclick=\"convertToInteractive('df-296b2bf5-93e7-407c-a587-cb52e0593f9a')\"\n",
              "            title=\"Convert this dataframe to an interactive table.\"\n",
              "            style=\"display:none;\">\n",
              "\n",
              "  <svg xmlns=\"http://www.w3.org/2000/svg\" height=\"24px\" viewBox=\"0 -960 960 960\">\n",
              "    <path d=\"M120-120v-720h720v720H120Zm60-500h600v-160H180v160Zm220 220h160v-160H400v160Zm0 220h160v-160H400v160ZM180-400h160v-160H180v160Zm440 0h160v-160H620v160ZM180-180h160v-160H180v160Zm440 0h160v-160H620v160Z\"/>\n",
              "  </svg>\n",
              "    </button>\n",
              "\n",
              "  <style>\n",
              "    .colab-df-container {\n",
              "      display:flex;\n",
              "      gap: 12px;\n",
              "    }\n",
              "\n",
              "    .colab-df-convert {\n",
              "      background-color: #E8F0FE;\n",
              "      border: none;\n",
              "      border-radius: 50%;\n",
              "      cursor: pointer;\n",
              "      display: none;\n",
              "      fill: #1967D2;\n",
              "      height: 32px;\n",
              "      padding: 0 0 0 0;\n",
              "      width: 32px;\n",
              "    }\n",
              "\n",
              "    .colab-df-convert:hover {\n",
              "      background-color: #E2EBFA;\n",
              "      box-shadow: 0px 1px 2px rgba(60, 64, 67, 0.3), 0px 1px 3px 1px rgba(60, 64, 67, 0.15);\n",
              "      fill: #174EA6;\n",
              "    }\n",
              "\n",
              "    .colab-df-buttons div {\n",
              "      margin-bottom: 4px;\n",
              "    }\n",
              "\n",
              "    [theme=dark] .colab-df-convert {\n",
              "      background-color: #3B4455;\n",
              "      fill: #D2E3FC;\n",
              "    }\n",
              "\n",
              "    [theme=dark] .colab-df-convert:hover {\n",
              "      background-color: #434B5C;\n",
              "      box-shadow: 0px 1px 3px 1px rgba(0, 0, 0, 0.15);\n",
              "      filter: drop-shadow(0px 1px 2px rgba(0, 0, 0, 0.3));\n",
              "      fill: #FFFFFF;\n",
              "    }\n",
              "  </style>\n",
              "\n",
              "    <script>\n",
              "      const buttonEl =\n",
              "        document.querySelector('#df-296b2bf5-93e7-407c-a587-cb52e0593f9a button.colab-df-convert');\n",
              "      buttonEl.style.display =\n",
              "        google.colab.kernel.accessAllowed ? 'block' : 'none';\n",
              "\n",
              "      async function convertToInteractive(key) {\n",
              "        const element = document.querySelector('#df-296b2bf5-93e7-407c-a587-cb52e0593f9a');\n",
              "        const dataTable =\n",
              "          await google.colab.kernel.invokeFunction('convertToInteractive',\n",
              "                                                    [key], {});\n",
              "        if (!dataTable) return;\n",
              "\n",
              "        const docLinkHtml = 'Like what you see? Visit the ' +\n",
              "          '<a target=\"_blank\" href=https://colab.research.google.com/notebooks/data_table.ipynb>data table notebook</a>'\n",
              "          + ' to learn more about interactive tables.';\n",
              "        element.innerHTML = '';\n",
              "        dataTable['output_type'] = 'display_data';\n",
              "        await google.colab.output.renderOutput(dataTable, element);\n",
              "        const docLink = document.createElement('div');\n",
              "        docLink.innerHTML = docLinkHtml;\n",
              "        element.appendChild(docLink);\n",
              "      }\n",
              "    </script>\n",
              "  </div>\n",
              "\n",
              "\n",
              "    <div id=\"df-9f283371-8865-4a5a-a4e1-df9372e009b3\">\n",
              "      <button class=\"colab-df-quickchart\" onclick=\"quickchart('df-9f283371-8865-4a5a-a4e1-df9372e009b3')\"\n",
              "                title=\"Suggest charts\"\n",
              "                style=\"display:none;\">\n",
              "\n",
              "<svg xmlns=\"http://www.w3.org/2000/svg\" height=\"24px\"viewBox=\"0 0 24 24\"\n",
              "     width=\"24px\">\n",
              "    <g>\n",
              "        <path d=\"M19 3H5c-1.1 0-2 .9-2 2v14c0 1.1.9 2 2 2h14c1.1 0 2-.9 2-2V5c0-1.1-.9-2-2-2zM9 17H7v-7h2v7zm4 0h-2V7h2v10zm4 0h-2v-4h2v4z\"/>\n",
              "    </g>\n",
              "</svg>\n",
              "      </button>\n",
              "\n",
              "<style>\n",
              "  .colab-df-quickchart {\n",
              "      --bg-color: #E8F0FE;\n",
              "      --fill-color: #1967D2;\n",
              "      --hover-bg-color: #E2EBFA;\n",
              "      --hover-fill-color: #174EA6;\n",
              "      --disabled-fill-color: #AAA;\n",
              "      --disabled-bg-color: #DDD;\n",
              "  }\n",
              "\n",
              "  [theme=dark] .colab-df-quickchart {\n",
              "      --bg-color: #3B4455;\n",
              "      --fill-color: #D2E3FC;\n",
              "      --hover-bg-color: #434B5C;\n",
              "      --hover-fill-color: #FFFFFF;\n",
              "      --disabled-bg-color: #3B4455;\n",
              "      --disabled-fill-color: #666;\n",
              "  }\n",
              "\n",
              "  .colab-df-quickchart {\n",
              "    background-color: var(--bg-color);\n",
              "    border: none;\n",
              "    border-radius: 50%;\n",
              "    cursor: pointer;\n",
              "    display: none;\n",
              "    fill: var(--fill-color);\n",
              "    height: 32px;\n",
              "    padding: 0;\n",
              "    width: 32px;\n",
              "  }\n",
              "\n",
              "  .colab-df-quickchart:hover {\n",
              "    background-color: var(--hover-bg-color);\n",
              "    box-shadow: 0 1px 2px rgba(60, 64, 67, 0.3), 0 1px 3px 1px rgba(60, 64, 67, 0.15);\n",
              "    fill: var(--button-hover-fill-color);\n",
              "  }\n",
              "\n",
              "  .colab-df-quickchart-complete:disabled,\n",
              "  .colab-df-quickchart-complete:disabled:hover {\n",
              "    background-color: var(--disabled-bg-color);\n",
              "    fill: var(--disabled-fill-color);\n",
              "    box-shadow: none;\n",
              "  }\n",
              "\n",
              "  .colab-df-spinner {\n",
              "    border: 2px solid var(--fill-color);\n",
              "    border-color: transparent;\n",
              "    border-bottom-color: var(--fill-color);\n",
              "    animation:\n",
              "      spin 1s steps(1) infinite;\n",
              "  }\n",
              "\n",
              "  @keyframes spin {\n",
              "    0% {\n",
              "      border-color: transparent;\n",
              "      border-bottom-color: var(--fill-color);\n",
              "      border-left-color: var(--fill-color);\n",
              "    }\n",
              "    20% {\n",
              "      border-color: transparent;\n",
              "      border-left-color: var(--fill-color);\n",
              "      border-top-color: var(--fill-color);\n",
              "    }\n",
              "    30% {\n",
              "      border-color: transparent;\n",
              "      border-left-color: var(--fill-color);\n",
              "      border-top-color: var(--fill-color);\n",
              "      border-right-color: var(--fill-color);\n",
              "    }\n",
              "    40% {\n",
              "      border-color: transparent;\n",
              "      border-right-color: var(--fill-color);\n",
              "      border-top-color: var(--fill-color);\n",
              "    }\n",
              "    60% {\n",
              "      border-color: transparent;\n",
              "      border-right-color: var(--fill-color);\n",
              "    }\n",
              "    80% {\n",
              "      border-color: transparent;\n",
              "      border-right-color: var(--fill-color);\n",
              "      border-bottom-color: var(--fill-color);\n",
              "    }\n",
              "    90% {\n",
              "      border-color: transparent;\n",
              "      border-bottom-color: var(--fill-color);\n",
              "    }\n",
              "  }\n",
              "</style>\n",
              "\n",
              "      <script>\n",
              "        async function quickchart(key) {\n",
              "          const quickchartButtonEl =\n",
              "            document.querySelector('#' + key + ' button');\n",
              "          quickchartButtonEl.disabled = true;  // To prevent multiple clicks.\n",
              "          quickchartButtonEl.classList.add('colab-df-spinner');\n",
              "          try {\n",
              "            const charts = await google.colab.kernel.invokeFunction(\n",
              "                'suggestCharts', [key], {});\n",
              "          } catch (error) {\n",
              "            console.error('Error during call to suggestCharts:', error);\n",
              "          }\n",
              "          quickchartButtonEl.classList.remove('colab-df-spinner');\n",
              "          quickchartButtonEl.classList.add('colab-df-quickchart-complete');\n",
              "        }\n",
              "        (() => {\n",
              "          let quickchartButtonEl =\n",
              "            document.querySelector('#df-9f283371-8865-4a5a-a4e1-df9372e009b3 button');\n",
              "          quickchartButtonEl.style.display =\n",
              "            google.colab.kernel.accessAllowed ? 'block' : 'none';\n",
              "        })();\n",
              "      </script>\n",
              "    </div>\n",
              "\n",
              "    </div>\n",
              "  </div>\n"
            ],
            "application/vnd.google.colaboratory.intrinsic+json": {
              "type": "dataframe",
              "variable_name": "df",
              "summary": "{\n  \"name\": \"df\",\n  \"rows\": 150,\n  \"fields\": [\n    {\n      \"column\": \"Student_ID\",\n      \"properties\": {\n        \"dtype\": \"string\",\n        \"num_unique_values\": 150,\n        \"samples\": [\n          \"STU074\",\n          \"STU019\",\n          \"STU119\"\n        ],\n        \"semantic_type\": \"\",\n        \"description\": \"\"\n      }\n    },\n    {\n      \"column\": \"Student_Name\",\n      \"properties\": {\n        \"dtype\": \"string\",\n        \"num_unique_values\": 103,\n        \"samples\": [\n          \"Aarav Yadav\",\n          \"Myra Yadav\",\n          \"Aditya Gupta\"\n        ],\n        \"semantic_type\": \"\",\n        \"description\": \"\"\n      }\n    },\n    {\n      \"column\": \"Course\",\n      \"properties\": {\n        \"dtype\": \"category\",\n        \"num_unique_values\": 3,\n        \"samples\": [\n          \"Data Analytics\",\n          \"Full Stack Web Dev\",\n          \"Python DA\"\n        ],\n        \"semantic_type\": \"\",\n        \"description\": \"\"\n      }\n    },\n    {\n      \"column\": \"Assignment_Completion_%\",\n      \"properties\": {\n        \"dtype\": \"number\",\n        \"std\": 15,\n        \"min\": 45,\n        \"max\": 99,\n        \"num_unique_values\": 52,\n        \"samples\": [\n          82,\n          61,\n          92\n        ],\n        \"semantic_type\": \"\",\n        \"description\": \"\"\n      }\n    },\n    {\n      \"column\": \"Content_Score_Avg\",\n      \"properties\": {\n        \"dtype\": \"number\",\n        \"std\": 18,\n        \"min\": 40,\n        \"max\": 100,\n        \"num_unique_values\": 52,\n        \"samples\": [\n          69,\n          47,\n          58\n        ],\n        \"semantic_type\": \"\",\n        \"description\": \"\"\n      }\n    },\n    {\n      \"column\": \"Communication_Skill_(10)\",\n      \"properties\": {\n        \"dtype\": \"number\",\n        \"std\": 2,\n        \"min\": 3,\n        \"max\": 10,\n        \"num_unique_values\": 8,\n        \"samples\": [\n          5,\n          4,\n          9\n        ],\n        \"semantic_type\": \"\",\n        \"description\": \"\"\n      }\n    },\n    {\n      \"column\": \"Batch_Start_Date\",\n      \"properties\": {\n        \"dtype\": \"object\",\n        \"num_unique_values\": 111,\n        \"samples\": [\n          \"2024-05-07\",\n          \"2024-04-26\",\n          \"2024-02-23\"\n        ],\n        \"semantic_type\": \"\",\n        \"description\": \"\"\n      }\n    },\n    {\n      \"column\": \"Placed\",\n      \"properties\": {\n        \"dtype\": \"category\",\n        \"num_unique_values\": 2,\n        \"samples\": [\n          \"No\",\n          \"Yes\"\n        ],\n        \"semantic_type\": \"\",\n        \"description\": \"\"\n      }\n    },\n    {\n      \"column\": \"CTC_LPA\",\n      \"properties\": {\n        \"dtype\": \"number\",\n        \"std\": 2.1489179333012887,\n        \"min\": 2.6,\n        \"max\": 9.97,\n        \"num_unique_values\": 96,\n        \"samples\": [\n          5.45,\n          6.1\n        ],\n        \"semantic_type\": \"\",\n        \"description\": \"\"\n      }\n    }\n  ]\n}"
            }
          },
          "metadata": {},
          "execution_count": 1
        }
      ],
      "source": [
        "# Import necessary library\n",
        "import pandas as pd\n",
        "\n",
        "# Load dataset\n",
        "df = pd.read_csv('/content/student_placement_data (1).csv')\n",
        "\n",
        "\n",
        "# Display first 5 rows\n",
        "df.head()\n"
      ]
    },
    {
      "cell_type": "markdown",
      "id": "28b6cf1f",
      "metadata": {
        "id": "28b6cf1f"
      },
      "source": [
        "### 2️⃣ Find the average CTC for each course\n",
        "Group the data by `Course` and find the **average CTC_LPA** for placed students."
      ]
    },
    {
      "cell_type": "code",
      "execution_count": 3,
      "id": "c2288699",
      "metadata": {
        "id": "c2288699",
        "outputId": "dcf41f5d-4fe2-45b5-8abb-91db57ceca71",
        "colab": {
          "base_uri": "https://localhost:8080/"
        }
      },
      "outputs": [
        {
          "output_type": "stream",
          "name": "stdout",
          "text": [
            "Course\n",
            "Data Analytics        5.990625\n",
            "Full Stack Web Dev    6.177105\n",
            "Python DA             6.472051\n",
            "Name: CTC_LPA, dtype: float64\n"
          ]
        }
      ],
      "source": [
        "# Answer here\n",
        "avg_ctc = df.groupby('Course')['CTC_LPA'].mean()\n",
        "print(avg_ctc)"
      ]
    },
    {
      "cell_type": "markdown",
      "id": "f0bf1c1a",
      "metadata": {
        "id": "f0bf1c1a"
      },
      "source": [
        "### 3️⃣ Compare average communication skill between placed and unplaced students\n",
        "Find average `Communication_Skill_(10)` for both placed and unplaced students."
      ]
    },
    {
      "cell_type": "code",
      "execution_count": 8,
      "id": "f60f14ed",
      "metadata": {
        "id": "f60f14ed",
        "outputId": "30362a20-4af5-412a-c5ba-b7e3276108c5",
        "colab": {
          "base_uri": "https://localhost:8080/"
        }
      },
      "outputs": [
        {
          "output_type": "stream",
          "name": "stdout",
          "text": [
            "  Placed  Communication_Skill_(10)\n",
            "0     No                  6.073171\n",
            "1    Yes                  6.825688\n"
          ]
        }
      ],
      "source": [
        "# Answer here\n",
        "average_communication_skill = df.groupby('Placed')['Communication_Skill_(10)'].mean().reset_index()\n",
        "print(average_communication_skill)"
      ]
    },
    {
      "cell_type": "markdown",
      "id": "7b1b3214",
      "metadata": {
        "id": "7b1b3214"
      },
      "source": [
        "### 4️⃣ Find top 10 students by assignment completion percentage\n",
        "Sort the data by `Assignment_Completion_%` in descending order and display top 10 students."
      ]
    },
    {
      "cell_type": "code",
      "execution_count": 12,
      "id": "132b8daa",
      "metadata": {
        "id": "132b8daa",
        "outputId": "13774f1d-3e6d-48b1-fef4-79f7e9877add",
        "colab": {
          "base_uri": "https://localhost:8080/"
        }
      },
      "outputs": [
        {
          "output_type": "stream",
          "name": "stdout",
          "text": [
            "    Student_ID   Student_Name              Course  Assignment_Completion_%\n",
            "136     STU137    Myra Sharma           Python DA                       99\n",
            "41      STU042    Aarav Reddy  Full Stack Web Dev                       99\n",
            "78      STU079    Meera Singh           Python DA                       98\n",
            "75      STU076      Ira Verma      Data Analytics                       98\n",
            "19      STU020  Reyansh Gupta  Full Stack Web Dev                       97\n",
            "13      STU014     Aarav Nair  Full Stack Web Dev                       97\n",
            "57      STU058       Diya Das           Python DA                       97\n",
            "99      STU100   Aadhya Gupta  Full Stack Web Dev                       97\n",
            "1       STU002    Anika Patel  Full Stack Web Dev                       96\n",
            "42      STU043     Aarav Nair  Full Stack Web Dev                       96\n"
          ]
        }
      ],
      "source": [
        "# Answer here\n",
        "top_10_students = df.sort_values(by='Assignment_Completion_%', ascending=False).head(10)\n",
        "print(top_10_students[['Student_ID','Student_Name','Course','Assignment_Completion_%']])"
      ]
    },
    {
      "cell_type": "markdown",
      "id": "e26d7e4d",
      "metadata": {
        "id": "e26d7e4d"
      },
      "source": [
        "### 5️⃣ Group by course and check placement rate\n",
        "Find how many students are placed and not placed in each course."
      ]
    },
    {
      "cell_type": "code",
      "execution_count": 20,
      "id": "2f502edd",
      "metadata": {
        "id": "2f502edd",
        "outputId": "ab030236-3954-4361-f6c4-0e65aa387702",
        "colab": {
          "base_uri": "https://localhost:8080/"
        }
      },
      "outputs": [
        {
          "output_type": "stream",
          "name": "stdout",
          "text": [
            "Placed  index              Course  No  Yes  Total_Students  Placement_Rate_%\n",
            "0           0      Data Analytics  22   32              54         59.259259\n",
            "1           1  Full Stack Web Dev  10   38              48         79.166667\n",
            "2           2           Python DA   9   39              48         81.250000\n"
          ]
        }
      ],
      "source": [
        "# Answer here\n",
        "\n",
        "#print(df.groupby(['Course','Placed']).size().reset_index(name='Count'))\n",
        "\n",
        "\n",
        "placement_summary = df.groupby(['Course','Placed']).size().unstack(fill_value=0).reset_index()\n",
        "placement_summary['Total_Students'] = placement_summary['Yes'] + placement_summary['No']\n",
        "placement_summary['Placement_Rate_%'] = (placement_summary['Yes']/placement_summary['Total_Students'])*100\n",
        "\n",
        "print(placement_summary.reset_index())"
      ]
    },
    {
      "cell_type": "markdown",
      "id": "ad0a4cfe",
      "metadata": {
        "id": "ad0a4cfe"
      },
      "source": [
        "### 6️⃣ (Optional Challenge) Find high-performing students not placed\n",
        "Find students who scored `>80` in content score and `>8` in communication skills but are **not placed**."
      ]
    },
    {
      "cell_type": "code",
      "execution_count": 25,
      "id": "f353ae21",
      "metadata": {
        "id": "f353ae21",
        "outputId": "d7fbd294-7d5e-4af0-ff72-1b4f410af956",
        "colab": {
          "base_uri": "https://localhost:8080/",
          "height": 118
        }
      },
      "outputs": [
        {
          "output_type": "execute_result",
          "data": {
            "text/plain": [
              "   Student_ID Student_Name     Course  Assignment_Completion_%  \\\n",
              "48     STU049  Arjun Kumar  Python DA                       53   \n",
              "\n",
              "    Content_Score_Avg  Communication_Skill_(10) Batch_Start_Date Placed  \\\n",
              "48                 83                        10       2024-10-22     No   \n",
              "\n",
              "    CTC_LPA  \n",
              "48      NaN  "
            ],
            "text/html": [
              "\n",
              "  <div id=\"df-755505ab-d78b-407d-9837-1c4ed34ad339\" class=\"colab-df-container\">\n",
              "    <div>\n",
              "<style scoped>\n",
              "    .dataframe tbody tr th:only-of-type {\n",
              "        vertical-align: middle;\n",
              "    }\n",
              "\n",
              "    .dataframe tbody tr th {\n",
              "        vertical-align: top;\n",
              "    }\n",
              "\n",
              "    .dataframe thead th {\n",
              "        text-align: right;\n",
              "    }\n",
              "</style>\n",
              "<table border=\"1\" class=\"dataframe\">\n",
              "  <thead>\n",
              "    <tr style=\"text-align: right;\">\n",
              "      <th></th>\n",
              "      <th>Student_ID</th>\n",
              "      <th>Student_Name</th>\n",
              "      <th>Course</th>\n",
              "      <th>Assignment_Completion_%</th>\n",
              "      <th>Content_Score_Avg</th>\n",
              "      <th>Communication_Skill_(10)</th>\n",
              "      <th>Batch_Start_Date</th>\n",
              "      <th>Placed</th>\n",
              "      <th>CTC_LPA</th>\n",
              "    </tr>\n",
              "  </thead>\n",
              "  <tbody>\n",
              "    <tr>\n",
              "      <th>48</th>\n",
              "      <td>STU049</td>\n",
              "      <td>Arjun Kumar</td>\n",
              "      <td>Python DA</td>\n",
              "      <td>53</td>\n",
              "      <td>83</td>\n",
              "      <td>10</td>\n",
              "      <td>2024-10-22</td>\n",
              "      <td>No</td>\n",
              "      <td>NaN</td>\n",
              "    </tr>\n",
              "  </tbody>\n",
              "</table>\n",
              "</div>\n",
              "    <div class=\"colab-df-buttons\">\n",
              "\n",
              "  <div class=\"colab-df-container\">\n",
              "    <button class=\"colab-df-convert\" onclick=\"convertToInteractive('df-755505ab-d78b-407d-9837-1c4ed34ad339')\"\n",
              "            title=\"Convert this dataframe to an interactive table.\"\n",
              "            style=\"display:none;\">\n",
              "\n",
              "  <svg xmlns=\"http://www.w3.org/2000/svg\" height=\"24px\" viewBox=\"0 -960 960 960\">\n",
              "    <path d=\"M120-120v-720h720v720H120Zm60-500h600v-160H180v160Zm220 220h160v-160H400v160Zm0 220h160v-160H400v160ZM180-400h160v-160H180v160Zm440 0h160v-160H620v160ZM180-180h160v-160H180v160Zm440 0h160v-160H620v160Z\"/>\n",
              "  </svg>\n",
              "    </button>\n",
              "\n",
              "  <style>\n",
              "    .colab-df-container {\n",
              "      display:flex;\n",
              "      gap: 12px;\n",
              "    }\n",
              "\n",
              "    .colab-df-convert {\n",
              "      background-color: #E8F0FE;\n",
              "      border: none;\n",
              "      border-radius: 50%;\n",
              "      cursor: pointer;\n",
              "      display: none;\n",
              "      fill: #1967D2;\n",
              "      height: 32px;\n",
              "      padding: 0 0 0 0;\n",
              "      width: 32px;\n",
              "    }\n",
              "\n",
              "    .colab-df-convert:hover {\n",
              "      background-color: #E2EBFA;\n",
              "      box-shadow: 0px 1px 2px rgba(60, 64, 67, 0.3), 0px 1px 3px 1px rgba(60, 64, 67, 0.15);\n",
              "      fill: #174EA6;\n",
              "    }\n",
              "\n",
              "    .colab-df-buttons div {\n",
              "      margin-bottom: 4px;\n",
              "    }\n",
              "\n",
              "    [theme=dark] .colab-df-convert {\n",
              "      background-color: #3B4455;\n",
              "      fill: #D2E3FC;\n",
              "    }\n",
              "\n",
              "    [theme=dark] .colab-df-convert:hover {\n",
              "      background-color: #434B5C;\n",
              "      box-shadow: 0px 1px 3px 1px rgba(0, 0, 0, 0.15);\n",
              "      filter: drop-shadow(0px 1px 2px rgba(0, 0, 0, 0.3));\n",
              "      fill: #FFFFFF;\n",
              "    }\n",
              "  </style>\n",
              "\n",
              "    <script>\n",
              "      const buttonEl =\n",
              "        document.querySelector('#df-755505ab-d78b-407d-9837-1c4ed34ad339 button.colab-df-convert');\n",
              "      buttonEl.style.display =\n",
              "        google.colab.kernel.accessAllowed ? 'block' : 'none';\n",
              "\n",
              "      async function convertToInteractive(key) {\n",
              "        const element = document.querySelector('#df-755505ab-d78b-407d-9837-1c4ed34ad339');\n",
              "        const dataTable =\n",
              "          await google.colab.kernel.invokeFunction('convertToInteractive',\n",
              "                                                    [key], {});\n",
              "        if (!dataTable) return;\n",
              "\n",
              "        const docLinkHtml = 'Like what you see? Visit the ' +\n",
              "          '<a target=\"_blank\" href=https://colab.research.google.com/notebooks/data_table.ipynb>data table notebook</a>'\n",
              "          + ' to learn more about interactive tables.';\n",
              "        element.innerHTML = '';\n",
              "        dataTable['output_type'] = 'display_data';\n",
              "        await google.colab.output.renderOutput(dataTable, element);\n",
              "        const docLink = document.createElement('div');\n",
              "        docLink.innerHTML = docLinkHtml;\n",
              "        element.appendChild(docLink);\n",
              "      }\n",
              "    </script>\n",
              "  </div>\n",
              "\n",
              "\n",
              "    </div>\n",
              "  </div>\n"
            ],
            "application/vnd.google.colaboratory.intrinsic+json": {
              "type": "dataframe",
              "repr_error": "0"
            }
          },
          "metadata": {},
          "execution_count": 25
        }
      ],
      "source": [
        "# Answer here\n",
        "df[(df['Content_Score_Avg']>80) & (df['Communication_Skill_(10)']>8) & (df['Placed']=='No')]"
      ]
    },
    {
      "cell_type": "code",
      "source": [],
      "metadata": {
        "id": "k-9JRpXYGZYf"
      },
      "id": "k-9JRpXYGZYf",
      "execution_count": null,
      "outputs": []
    }
  ],
  "metadata": {
    "language_info": {
      "name": "python"
    },
    "colab": {
      "provenance": []
    },
    "kernelspec": {
      "name": "python3",
      "display_name": "Python 3"
    }
  },
  "nbformat": 4,
  "nbformat_minor": 5
}