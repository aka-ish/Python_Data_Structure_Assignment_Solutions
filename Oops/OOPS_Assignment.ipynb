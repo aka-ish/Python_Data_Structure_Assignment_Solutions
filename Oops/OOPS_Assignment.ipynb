{
  "cells": [
    {
      "cell_type": "markdown",
      "metadata": {
        "id": "3eW2BGeCnoFF"
      },
      "source": [
        "#  OOPS in Python Assignment\n",
        "\n",
        "Kindly Submit this assignment using this Google form link- https://forms.gle/4oedWNwR38Z8j1LeA\n",
        "\n",
        "\n"
      ]
    },
    {
      "cell_type": "markdown",
      "metadata": {
        "id": "-YeIqDCxnoFH"
      },
      "source": [
        "## Q1. Create a Simple Class\n",
        "\n",
        "Create a class named `Student` that stores the following information:\n",
        "- name\n",
        "- roll number\n",
        "\n",
        "Then, create one object of that class and print both attributes.\n",
        "\n",
        "**Hint:** Use `__init__` to initialize the attributes."
      ]
    },
    {
      "cell_type": "code",
      "metadata": {
        "id": "O2lkAu64noFH",
        "outputId": "786ad5e8-fc58-4c11-c18b-a762b357a264",
        "colab": {
          "base_uri": "https://localhost:8080/"
        }
      },
      "source": [
        "# Define the Student class\n",
        "class Student:\n",
        "    def __init__(self, name, roll_number):\n",
        "        self.name = name\n",
        "        self.roll_number = roll_number\n",
        "\n",
        "# Create one object of the Student class\n",
        "student1 = Student(\"Akash\", 101)\n",
        "\n",
        "# Print both attributes\n",
        "print(\"Student Name:\", student1.name)\n",
        "print(\"Roll Number:\", student1.roll_number)\n"
      ],
      "execution_count": 24,
      "outputs": [
        {
          "output_type": "stream",
          "name": "stdout",
          "text": [
            "Student Name: Akash\n",
            "Roll Number: 101\n"
          ]
        }
      ]
    },
    {
      "cell_type": "markdown",
      "metadata": {
        "id": "8qtugqEInoFI"
      },
      "source": [
        "## Q2. Add a Method to a Class\n",
        "\n",
        "Extend your `Student` class to include a method named `display_info()` that prints the student's name and roll number in a proper sentence.\n",
        "\n",
        "**Goal:** Learn how to define methods inside a class."
      ]
    },
    {
      "cell_type": "code",
      "metadata": {
        "id": "a7QK5IBVnoFJ",
        "outputId": "5a40488a-d04e-4fc7-fe35-d1d7cf1577f2",
        "colab": {
          "base_uri": "https://localhost:8080/"
        }
      },
      "source": [
        "# Write your code here\n",
        "# Example output -> 'Student Name: Riya, Roll No: 101'\n",
        "\n",
        "# Define the Student class\n",
        "class Student:\n",
        "    def __init__(self, name, roll_number):\n",
        "        self.name = name\n",
        "        self.roll_number = roll_number\n",
        "\n",
        "    # Method to display student information\n",
        "    def display_info(self):\n",
        "        print(f\"Student Name: {self.name}, Roll Number: {self.roll_number}\")\n",
        "\n",
        "# Create one object of the Student class\n",
        "student1 = Student(\"Akash\", 101)\n",
        "\n",
        "# Call the display_info method\n",
        "student1.display_info()\n",
        "\n"
      ],
      "execution_count": 25,
      "outputs": [
        {
          "output_type": "stream",
          "name": "stdout",
          "text": [
            "Student Name: Akash, Roll Number: 101\n"
          ]
        }
      ]
    },
    {
      "cell_type": "markdown",
      "metadata": {
        "id": "Hbxw2v30noFJ"
      },
      "source": [
        "## Q3. Employee Salary Class\n",
        "\n",
        "Create a class `Employee` that has:\n",
        "- `name` and `salary` attributes\n",
        "- a method `bonus()` that adds 10% bonus to the salary and prints the new salary.\n",
        "\n",
        "**Hint:** Bonus = `salary * 0.10`"
      ]
    },
    {
      "cell_type": "code",
      "metadata": {
        "id": "0hX7fLbEnoFJ",
        "outputId": "b21a3bee-1be0-4bc0-d2da-f39b966af8e8",
        "colab": {
          "base_uri": "https://localhost:8080/"
        }
      },
      "source": [
        "# Write your code here\n",
        "# Example:\n",
        "# e1 = Employee('Aman', 40000)\n",
        "# e1.bonus()  # should print new salary after adding bonus\n",
        "\n",
        "# Define the Employee class\n",
        "class Employee:\n",
        "    def __init__(self, name, salary):\n",
        "        self.name = name\n",
        "        self.salary = salary\n",
        "\n",
        "    # Method to add 10% bonus to the salary\n",
        "    def bonus(self):\n",
        "        bonus_amount = self.salary * 0.10\n",
        "        self.salary += bonus_amount\n",
        "        print(f\"New salary of {self.name} after 10% bonus: ₹{self.salary}\")\n",
        "\n",
        "# Create an object of Employee class\n",
        "emp1 = Employee(\"Aman\", 40000)\n",
        "\n",
        "# Print original salary\n",
        "print(f\"Original salary of {emp1.name}: ₹{emp1.salary}\")\n",
        "\n",
        "# Apply bonus\n",
        "emp1.bonus()\n"
      ],
      "execution_count": 27,
      "outputs": [
        {
          "output_type": "stream",
          "name": "stdout",
          "text": [
            "Original salary of Aman: ₹40000\n",
            "New salary of Aman after 10% bonus: ₹44000.0\n"
          ]
        }
      ]
    },
    {
      "cell_type": "markdown",
      "metadata": {
        "id": "se7-VekQnoFJ"
      },
      "source": [
        "## Q4. Encapsulation Example\n",
        "\n",
        "Create a class `BankAccount` with a private attribute `__balance`.\n",
        "- Create methods `deposit(amount)` and `get_balance()`.\n",
        "- Prevent direct access to `__balance`.\n",
        "\n",
        "**Hint:** Use double underscores (`__`) before variable name to make it private."
      ]
    },
    {
      "cell_type": "code",
      "metadata": {
        "id": "pqSvbQRRnoFK",
        "outputId": "fe033e97-9d31-4328-8eb2-47341fa9db5f",
        "colab": {
          "base_uri": "https://localhost:8080/"
        }
      },
      "source": [
        "# Write your code here\n",
        "# Define the BankAccount class\n",
        "class BankAccount:\n",
        "    def __init__(self, initial_balance=0):\n",
        "        self.__balance = initial_balance  # Private attribute\n",
        "\n",
        "    # Method to deposit money\n",
        "    def deposit(self, amount):\n",
        "        if amount > 0:\n",
        "            self.__balance += amount\n",
        "            print(f\"₹{amount} deposited successfully!\")\n",
        "        else:\n",
        "            print(\"Deposit amount must be positive.\")\n",
        "\n",
        "    # Method to get the current balance\n",
        "    def get_balance(self):\n",
        "        print(f\"Current Balance: ₹{self.__balance}\")\n",
        "\n",
        "# Create a BankAccount object\n",
        "account1 = BankAccount(1000)\n",
        "\n",
        "# Deposit some money\n",
        "account1.deposit(500)\n",
        "\n",
        "# Get current balance\n",
        "account1.get_balance()\n",
        "\n",
        "# Trying to access private variable directly (will not work)\n",
        "# print(account1.__balance)  # ❌ This will cause an AttributeError\n",
        "\n",
        "# Example:\n",
        "# acc = BankAccount(1000)\n",
        "# acc.deposit(500)\n",
        "# acc.get_balance()  # should print 1500"
      ],
      "execution_count": 28,
      "outputs": [
        {
          "output_type": "stream",
          "name": "stdout",
          "text": [
            "₹500 deposited successfully!\n",
            "Current Balance: ₹1500\n"
          ]
        }
      ]
    },
    {
      "cell_type": "markdown",
      "metadata": {
        "id": "Yuy41M52noFK"
      },
      "source": [
        "## Q5. Inheritance Example (Simple One)\n",
        "\n",
        "Create two classes:\n",
        "- `Person` → has attribute `name` and method `speak()` that prints \"Hello, I am [name]\"\n",
        "- `DataAnalyst` → inherits from `Person` and adds a new method `analyze()` that prints \"Analyzing data using Python...\"\n",
        "\n",
        "Then create an object of `DataAnalyst` and call both methods."
      ]
    },
    {
      "cell_type": "code",
      "metadata": {
        "id": "XASy1ru9noFK",
        "outputId": "3293a68c-1452-4306-d886-c46f51285903",
        "colab": {
          "base_uri": "https://localhost:8080/"
        }
      },
      "source": [
        "# Write your code here\n",
        "class Person:\n",
        "  def __init__(self, name):\n",
        "    self.name = name\n",
        "\n",
        "  def speak(self):\n",
        "    print(f\"Hello, I am {self.name}\")\n",
        "\n",
        "class DataAnalyst(Person):\n",
        "  def analyze(self):\n",
        "    print(\"Analyzing data using python..\")\n",
        "\n",
        "analyst = DataAnalyst(\"Akash\")\n",
        "analyst.speak()\n",
        "analyst.analyze()\n",
        "# Example Output:\n",
        "# Hello, I am Nikhil\n",
        "# Analyzing data using Python..."
      ],
      "execution_count": 23,
      "outputs": [
        {
          "output_type": "stream",
          "name": "stdout",
          "text": [
            "Hello, I am Akash\n",
            "Analyzing data using python..\n"
          ]
        }
      ]
    },
    {
      "cell_type": "markdown",
      "metadata": {
        "id": "1eYZ6i1SnoFK"
      },
      "source": [
        "## Q6. (Medium Level) Real-Life Problem — Product Sales Tracker\n",
        "\n",
        "You are working as a **Data Analyst** in a retail company.\n",
        "Create a class `Product` with attributes:\n",
        "- `name`\n",
        "- `price`\n",
        "- `quantity`\n",
        "\n",
        "Add the following methods:\n",
        "- `total_value()` → returns total value of product (price × quantity)\n",
        "- `apply_discount(percent)` → reduces the price by given percent.\n",
        "\n",
        "Finally, create two product objects and print their total values **before and after discount.**"
      ]
    },
    {
      "cell_type": "code",
      "metadata": {
        "id": "e_KbiMG6noFK",
        "outputId": "57663e57-7c86-4655-ae9b-3e318cadb8a3",
        "colab": {
          "base_uri": "https://localhost:8080/"
        }
      },
      "source": [
        "# Write your code here\n",
        "class Product:\n",
        "  def __init__(self, name, price, quantity):\n",
        "    self.name = name\n",
        "    self.price = price\n",
        "    self.quantity = quantity\n",
        "\n",
        "  def total_value(self):\n",
        "    total = self.price * self.quantity\n",
        "    return total\n",
        "\n",
        "  def apply_discount(self,percent):\n",
        "    discount_amount = self.price * (percent / 100)\n",
        "    self.price = self.price - discount_amount\n",
        "    return self.price\n",
        "\n",
        "product1 = Product(\"Laptop\",5000,3)\n",
        "product2 = Product(\"Headphones\",2000,10)\n",
        "\n",
        "print(\"Before Discount:\")\n",
        "print(f\"{product1.name} Total Value: ₹{product1.total_value()}\")\n",
        "print(f\"{product2.name} Total Value: ₹{product2.total_value()}\")\n",
        "\n",
        "product1.apply_discount(10)\n",
        "product2.apply_discount(20)\n",
        "\n",
        "\n",
        "\n",
        "print(\"\\nAfter Discount:\")\n",
        "print(f\"{product1.name} Total Value: ₹{product1.total_value()}\")\n",
        "print(f\"{product2.name} Total Value: ₹{product2.total_value()}\")\n",
        "# Example Output:\n",
        "# Total value before discount: 2000\n",
        "# Total value after 10% discount: 1800"
      ],
      "execution_count": 22,
      "outputs": [
        {
          "output_type": "stream",
          "name": "stdout",
          "text": [
            "Before Discount:\n",
            "Laptop Total Value: ₹15000\n",
            "Headphones Total Value: ₹20000\n",
            "\n",
            "After Discount:\n",
            "Laptop Total Value: ₹13500.0\n",
            "Headphones Total Value: ₹16000.0\n"
          ]
        }
      ]
    },
    {
      "cell_type": "markdown",
      "metadata": {
        "id": "FFjJ0An4noFK"
      },
      "source": [
        "\n",
        "\n",
        "##_Remember: Practice builds clarity._"
      ]
    }
  ],
  "metadata": {
    "kernelspec": {
      "display_name": "Python 3",
      "language": "python",
      "name": "python3"
    },
    "language_info": {
      "name": "python",
      "version": "3.10"
    },
    "colab": {
      "provenance": []
    }
  },
  "nbformat": 4,
  "nbformat_minor": 0
}