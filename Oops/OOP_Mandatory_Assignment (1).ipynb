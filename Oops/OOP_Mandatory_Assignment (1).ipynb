{
  "cells": [
    {
      "cell_type": "markdown",
      "id": "e9977157",
      "metadata": {
        "id": "e9977157"
      },
      "source": [
        "# Object-Oriented Programming (OOP) - Practice Assignment\n",
        "\n",
        "This assignment will help you understand the basics of Object-Oriented Programming (OOP) in Python.  \n",
        "Each question is written in a simple way so that you know exactly what to do.\n",
        "\n",
        "**Structure:**\n",
        "- 6 Easy Questions  \n",
        "- 2 Medium Questions  \n",
        "- 2 Hard Questions\n",
        "\n",
        "Follow each question carefully and try to run the examples step by step.\n"
      ]
    },
    {
      "cell_type": "markdown",
      "id": "522a3c58",
      "metadata": {
        "id": "522a3c58"
      },
      "source": [
        "### Question 1 (Easy)\n",
        "**Create a Class and Object**\n",
        "\n",
        "Create a class named `Student` with one attribute `name`.  \n",
        "Then create an object of this class and print the student's name.\n",
        "\n",
        "*Hint:* Use the `__init__` method to initialize the name attribute."
      ]
    },
    {
      "cell_type": "code",
      "source": [
        "#answer here\n",
        "class Student:\n",
        "  def __init__(self,name):\n",
        "    self.name = name\n",
        "\n",
        "  def display(self):\n",
        "    print(f\"Student name is: {self.name}\")\n",
        "\n",
        "s1 = Student(\"Akash\")\n",
        "s1.display()\n"
      ],
      "metadata": {
        "id": "eoxW1xeIzyDT",
        "outputId": "ceaaa05c-f0ed-4e98-a6a4-f6312ac236c3",
        "colab": {
          "base_uri": "https://localhost:8080/"
        }
      },
      "id": "eoxW1xeIzyDT",
      "execution_count": 1,
      "outputs": [
        {
          "output_type": "stream",
          "name": "stdout",
          "text": [
            "Student name is: Akash\n"
          ]
        }
      ]
    },
    {
      "cell_type": "markdown",
      "id": "62eb0fc1",
      "metadata": {
        "id": "62eb0fc1"
      },
      "source": [
        "### Question 2 (Easy)\n",
        "**Add Multiple Attributes**\n",
        "\n",
        "Create a class `Car` that has two attributes: `brand` and `year`.  \n",
        "Create two objects of this class for two different cars and print their details using `print()`."
      ]
    },
    {
      "cell_type": "code",
      "source": [
        "#answer here\n",
        "class Car:\n",
        "  def __init__(self,brand,year):\n",
        "    self.brand = brand\n",
        "    self.year = year\n",
        "\n",
        "  def display(self):\n",
        "    print(f\"brand={self.brand}, year={self.year}\")\n",
        "c1 = Car('VW',2000)\n",
        "c1.display()"
      ],
      "metadata": {
        "id": "aDLB9Ourz1fb",
        "outputId": "f5bb0a4b-cd38-4f5e-94ea-e7572f0b7804",
        "colab": {
          "base_uri": "https://localhost:8080/"
        }
      },
      "id": "aDLB9Ourz1fb",
      "execution_count": 3,
      "outputs": [
        {
          "output_type": "stream",
          "name": "stdout",
          "text": [
            "brand=VW, year=2000\n"
          ]
        }
      ]
    },
    {
      "cell_type": "markdown",
      "id": "009120a2",
      "metadata": {
        "id": "009120a2"
      },
      "source": [
        "### Question 3 (Easy)\n",
        "**Methods in a Class**\n",
        "\n",
        "Create a class `Circle` with one attribute `radius`.  \n",
        "Add a method `area()` that returns the area of the circle.\n",
        "\n",
        "*Formula:* Area = π × radius²"
      ]
    },
    {
      "cell_type": "code",
      "source": [
        "#answer here\n",
        "class Circle:\n",
        "  def __init__(self,radius):\n",
        "    self.radius = radius\n",
        "\n",
        "  def area(self):\n",
        "    return 3.14*self.radius**2\n",
        "\n",
        "c1 = Circle(3)\n",
        "c1.area()\n"
      ],
      "metadata": {
        "id": "yNLySqc9z2PO",
        "outputId": "0fbe39e8-bc73-4f2b-cbf8-c8d5934539f6",
        "colab": {
          "base_uri": "https://localhost:8080/"
        }
      },
      "id": "yNLySqc9z2PO",
      "execution_count": 4,
      "outputs": [
        {
          "output_type": "execute_result",
          "data": {
            "text/plain": [
              "28.26"
            ]
          },
          "metadata": {},
          "execution_count": 4
        }
      ]
    },
    {
      "cell_type": "markdown",
      "id": "0b760f6d",
      "metadata": {
        "id": "0b760f6d"
      },
      "source": [
        "### Question 4 (Easy)\n",
        "**Default and Parameterized Constructor**\n",
        "\n",
        "Create a class `Book` that takes the book title and author name as parameters when creating an object.  \n",
        "Also, create one object without any arguments and set default values like `'Unknown Title'` and `'Unknown Author'`."
      ]
    },
    {
      "cell_type": "code",
      "source": [
        "#answer here\n",
        "class Book:\n",
        "  def __init__(self,title='Unknown_Title',author='Unknown_Author'):\n",
        "    self.title = title\n",
        "    self.author = author\n",
        "\n",
        "  def display(self):\n",
        "    print(f\"{self.title} has author {self.author}\")\n",
        "\n",
        "b1 = Book()\n",
        "b1.display()\n",
        ""
      ],
      "metadata": {
        "id": "pbYx_DZDz2xR",
        "outputId": "f378ace7-6edb-4246-9614-5c0e1cea5c8e",
        "colab": {
          "base_uri": "https://localhost:8080/"
        }
      },
      "id": "pbYx_DZDz2xR",
      "execution_count": 6,
      "outputs": [
        {
          "output_type": "stream",
          "name": "stdout",
          "text": [
            "Unknown_Title has author Unknown_Author\n"
          ]
        }
      ]
    },
    {
      "cell_type": "markdown",
      "id": "67ac94fd",
      "metadata": {
        "id": "67ac94fd"
      },
      "source": [
        "### Question 5 (Easy)\n",
        "**Use of Self Keyword**\n",
        "\n",
        "Create a class `Employee` that has a method `display()` which prints `'This is an Employee class'`.  \n",
        "Then create one object and call the method using that object."
      ]
    },
    {
      "cell_type": "code",
      "source": [
        "#answer here\n",
        "class Employee:\n",
        "  def display(self):\n",
        "    return \"This is an Employee Class\"\n",
        "E1 = Employee()\n",
        "E1.display()"
      ],
      "metadata": {
        "id": "8JXQn5LCz3Qp",
        "outputId": "f5195212-e187-4640-cb3b-ca5c610da135",
        "colab": {
          "base_uri": "https://localhost:8080/",
          "height": 35
        }
      },
      "id": "8JXQn5LCz3Qp",
      "execution_count": 7,
      "outputs": [
        {
          "output_type": "execute_result",
          "data": {
            "text/plain": [
              "'This is an Employee Class'"
            ],
            "application/vnd.google.colaboratory.intrinsic+json": {
              "type": "string"
            }
          },
          "metadata": {},
          "execution_count": 7
        }
      ]
    },
    {
      "cell_type": "markdown",
      "id": "dce22c96",
      "metadata": {
        "id": "dce22c96"
      },
      "source": [
        "### Question 6 (Easy)\n",
        "**Simple Calculator Class**\n",
        "\n",
        "Create a class `Calculator` with methods for addition, subtraction, multiplication, and division.  \n",
        "Each method should take two numbers as parameters and return the result."
      ]
    },
    {
      "cell_type": "code",
      "source": [
        "#answer here\n",
        "class Calculator:\n",
        "  def addition(self,a,b):\n",
        "    return a+b\n",
        "\n",
        "  def substraction(self,a,b):\n",
        "    return a-b\n",
        "\n",
        "  def multiplication(self,a,b):\n",
        "    return a*b\n",
        "\n",
        "  def division(self,a,b):\n",
        "    return a//b\n",
        "\n",
        "a1 = Calculator()\n",
        "a1.addition(5,4)\n",
        "a1.division(20,2)\n",
        ""
      ],
      "metadata": {
        "id": "WeDQIvebz3uF",
        "outputId": "1d5197b1-0f5c-4573-e372-37ca14ed024d",
        "colab": {
          "base_uri": "https://localhost:8080/"
        }
      },
      "id": "WeDQIvebz3uF",
      "execution_count": 9,
      "outputs": [
        {
          "output_type": "execute_result",
          "data": {
            "text/plain": [
              "10"
            ]
          },
          "metadata": {},
          "execution_count": 9
        }
      ]
    },
    {
      "cell_type": "markdown",
      "id": "d5f60974",
      "metadata": {
        "id": "d5f60974"
      },
      "source": [
        "### Question 7 (Medium)\n",
        "**Working with Multiple Objects**\n",
        "\n",
        "Create a class `Student` with attributes `name`, `marks1`, `marks2`, and `marks3`.  \n",
        "Add a method `average()` that returns the average marks of the student.  \n",
        "Create objects for three students and print their average marks."
      ]
    },
    {
      "cell_type": "code",
      "source": [
        "#answer here\n",
        "class Student:\n",
        "  def __init__(self,marks1,marks2,marks3):\n",
        "    self.marks1 = marks1\n",
        "    self.marks2 = marks2\n",
        "    self.marks3 = marks3\n",
        "\n",
        "  def average(self):\n",
        "    return self.marks1+self.marks2+self.marks3 // 3\n",
        "\n",
        "s1 = Student(13,14,15)\n",
        "s1.average()\n"
      ],
      "metadata": {
        "id": "un7JLb6dz4MD",
        "outputId": "3114c3fd-2394-4864-bb3e-110d390e5000",
        "colab": {
          "base_uri": "https://localhost:8080/"
        }
      },
      "id": "un7JLb6dz4MD",
      "execution_count": 14,
      "outputs": [
        {
          "output_type": "execute_result",
          "data": {
            "text/plain": [
              "32"
            ]
          },
          "metadata": {},
          "execution_count": 14
        }
      ]
    },
    {
      "cell_type": "markdown",
      "id": "6047ad11",
      "metadata": {
        "id": "6047ad11"
      },
      "source": [
        "### Question 8 (Medium)\n",
        "**Inheritance Concept**\n",
        "\n",
        "Create a base class `Person` with an attribute `name` and a method `show_name()`.  \n",
        "Then create a derived class `Teacher` that adds a new attribute `subject` and a method `show_subject()`.  \n",
        "Create an object of `Teacher` and call both methods."
      ]
    },
    {
      "cell_type": "code",
      "source": [
        "#answer here\n",
        "class Person:\n",
        "  def __init__(self,name):\n",
        "    self.name = name\n",
        "\n",
        "  def show_name(self):\n",
        "    return self.name\n",
        "\n",
        "class Teacher(Person):\n",
        "  def __init__(self,name, subject):\n",
        "    super().__init__(name)\n",
        "    self.subject = subject\n",
        "\n",
        "  def show_subject(self):\n",
        "    return f\"{self.subject}\"\n",
        "T1 = Teacher(\"Nitin\",\"History\")\n",
        "T1.show_subject()\n",
        "#T1.show_name()"
      ],
      "metadata": {
        "id": "3RF85lsjz4sT",
        "outputId": "03f73946-a121-4107-de11-338aeffe0cc2",
        "colab": {
          "base_uri": "https://localhost:8080/",
          "height": 35
        }
      },
      "id": "3RF85lsjz4sT",
      "execution_count": 33,
      "outputs": [
        {
          "output_type": "execute_result",
          "data": {
            "text/plain": [
              "'History'"
            ],
            "application/vnd.google.colaboratory.intrinsic+json": {
              "type": "string"
            }
          },
          "metadata": {},
          "execution_count": 33
        }
      ]
    },
    {
      "cell_type": "markdown",
      "id": "062ac860",
      "metadata": {
        "id": "062ac860"
      },
      "source": [
        "### Question 9 (Hard)\n",
        "**Encapsulation Example**\n",
        "\n",
        "Create a class `BankAccount` with attributes `__balance` (private) and `account_holder`.  \n",
        "Add methods `deposit(amount)` and `withdraw(amount)` to update the balance safely.  \n",
        "Print the final balance only through a method `show_balance()`."
      ]
    },
    {
      "cell_type": "code",
      "source": [
        "#answer here\n",
        "class BankAccount:\n",
        "  def __init__(self,account_holder,balance):\n",
        "    self.account_holder= account_holder\n",
        "    self.__balance = balance\n",
        "\n",
        "  def deposit(self,amount):\n",
        "    if amount>0:\n",
        "      self.__balance += amount\n",
        "      return self.__balance\n",
        "    else:\n",
        "      print(\"Amount cannot be nagative\")\n",
        "\n",
        "\n",
        "  def withdraw(self,amount):\n",
        "    if self.__balance>0:\n",
        "      self.__balance -= amount\n",
        "      return self.__balance\n",
        "    else:\n",
        "      return \"Insufficient Balance\"\n",
        "\n",
        "\n",
        "\n",
        "  def show_balance(self):\n",
        "    return self.__balance\n",
        "\n",
        "acc = BankAccount(\"akash\",5000)\n",
        "acc.deposit(4000)\n",
        "acc.withdraw(3000)\n",
        "acc.show_balance()\n"
      ],
      "metadata": {
        "id": "F6gWsUOFz5XN",
        "outputId": "4faeaa01-8ecb-47fe-cd6e-f6450fd365f2",
        "colab": {
          "base_uri": "https://localhost:8080/"
        }
      },
      "id": "F6gWsUOFz5XN",
      "execution_count": 26,
      "outputs": [
        {
          "output_type": "execute_result",
          "data": {
            "text/plain": [
              "6000"
            ]
          },
          "metadata": {},
          "execution_count": 26
        }
      ]
    },
    {
      "cell_type": "markdown",
      "id": "f10a7d88",
      "metadata": {
        "id": "f10a7d88"
      },
      "source": [
        "### Question 10 (Hard)\n",
        "**Polymorphism Example**\n",
        "\n",
        "Create two classes: `Dog` and `Cat`.  \n",
        "Both should have a method named `speak()` that prints the sound of the animal.  \n",
        "Write a function `animal_sound(animal)` that calls the `speak()` method of any animal passed to it.\n",
        "\n",
        "*Hint:* This shows how the same method name can have different behaviors depending on the object type."
      ]
    },
    {
      "cell_type": "code",
      "source": [
        "class Dog:\n",
        "  def speak(self):\n",
        "    print(\"Woof!\")\n",
        "\n",
        "\n",
        "class Cat:\n",
        "  def speak(self):\n",
        "    print(\"Meow!\")\n",
        "\n",
        "def animal_sound(animal):\n",
        "  animal.speak()\n",
        "\n",
        "\n",
        "my_dog = Dog()\n",
        "my_cat = Cat()\n",
        "\n",
        "animal_sound(my_dog)\n",
        "animal_sound(my_cat)\n"
      ],
      "metadata": {
        "id": "tvczT-hEz6Kd",
        "outputId": "c3df928d-d9f4-416c-dff5-304d99e2a526",
        "colab": {
          "base_uri": "https://localhost:8080/"
        }
      },
      "id": "tvczT-hEz6Kd",
      "execution_count": 30,
      "outputs": [
        {
          "output_type": "stream",
          "name": "stdout",
          "text": [
            "Woof!\n",
            "Meow!\n"
          ]
        }
      ]
    },
    {
      "cell_type": "code",
      "source": [],
      "metadata": {
        "id": "eEo-Olz9OebI"
      },
      "id": "eEo-Olz9OebI",
      "execution_count": null,
      "outputs": []
    }
  ],
  "metadata": {
    "colab": {
      "provenance": []
    },
    "language_info": {
      "name": "python"
    },
    "kernelspec": {
      "name": "python3",
      "display_name": "Python 3"
    }
  },
  "nbformat": 4,
  "nbformat_minor": 5
}